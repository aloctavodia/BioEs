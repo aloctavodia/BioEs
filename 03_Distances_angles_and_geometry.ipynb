{
 "metadata": {
  "name": "",
  "signature": "sha256:66e75b534377e99b76c22a1e866480d639b929d4f54e6de2693c7902742e5c5b"
 },
 "nbformat": 3,
 "nbformat_minor": 0,
 "worksheets": [
  {
   "cells": [
    {
     "cell_type": "markdown",
     "metadata": {},
     "source": [
      "# Distances, angles and geometry\n",
      "\n",
      "In this chapter we will begin to explore some of the most common structural bioinformatic algorithms and we will apply some of the concepts from previous chapters.\n",
      "\n",
      "The goal of structural bioinformatics is to understand biomolecules, their properties,functions, dynamics, evolutionary history etc... in terms of structural/geometrical features. In general, structural bioinformatics borrows the idea from classical mechanics that all you need to determinate the state of a system are the coordinates and velocities of its particles. As we will not study dynamical properties of biomolecules in this course we will restrict ourselves to the manipulation of coordinates of static biomolecular models.\n",
      "\n",
      "In this chapter we will use several Python libraries, including the PyMOL API. So, lets start importing everything we need."
     ]
    },
    {
     "cell_type": "code",
     "collapsed": false,
     "input": [
      "%matplotlib inline\n",
      "# The next five lines are needed to use the PyMOL API\n",
      "# all the stuff with the \"sys\" is just to send the pymol\n",
      "# standard-output (stdout) to the notebook.\n",
      "import sys, pymol\n",
      "from pymol import cmd, stored\n",
      "stdout = sys.stdout\n",
      "pymol.finish_launching()\n",
      "sys.stdout = stdout\n",
      "\n",
      "from __future__ import division  \n",
      "import numpy as np\n",
      "np.set_printoptions(precision=3)\n",
      "import matplotlib.pyplot as plt\n",
      "from mpl_toolkits.mplot3d import Axes3D  # 3D plots\n",
      "import seaborn as sns\n",
      "from scipy.spatial.distance import cdist  # import cdist function from scipy"
     ],
     "language": "python",
     "metadata": {},
     "outputs": [
      {
       "output_type": "stream",
       "stream": "stdout",
       "text": [
        " Adjusting settings to improve performance for Intel cards.\n"
       ]
      }
     ],
     "prompt_number": 1
    },
    {
     "cell_type": "markdown",
     "metadata": {},
     "source": [
      "# The PyMOL API\n",
      "\n",
      "PyMOL provieds a lot of handy functions to works with molecules, all the things that can be done using the PyMOL GUI (graphical user interface) can be done with its API (and even a couple more!).\n",
      "\n",
      "The first think we will do is to upload a molecule into PyMOL, we can do that with the _load_ command. Then, we will remove everything that is not a polymer with the _remove_ comand, in this case we are removing oxygen atoms that belong to water molecules. All PyMOL commands start with _cmd_."
     ]
    },
    {
     "cell_type": "code",
     "collapsed": false,
     "input": [
      "cmd.load('1UBQ.pdb')\n",
      "cmd.remove('not polymer')"
     ],
     "language": "python",
     "metadata": {},
     "outputs": [],
     "prompt_number": 2
    },
    {
     "cell_type": "markdown",
     "metadata": {},
     "source": [
      "Next, we will create a NumPy array containg the cartesian coordinates for all the C$\\alpha$ atoms from the uploaded molecule. For convenience we will use the following PyMOL functions:"
     ]
    },
    {
     "cell_type": "code",
     "collapsed": false,
     "input": [
      "model = cmd.get_model('all')\n",
      "xyz = np.array(model.get_coord_list())\n",
      "model_ca = cmd.get_model('name ca')\n",
      "xyz_ca = np.array(model_ca.get_coord_list())\n",
      "xyz[:3]"
     ],
     "language": "python",
     "metadata": {},
     "outputs": [
      {
       "metadata": {},
       "output_type": "pyout",
       "prompt_number": 3,
       "text": [
        "array([[ 27.34 ,  24.43 ,   2.614],\n",
        "       [ 26.266,  25.413,   2.842],\n",
        "       [ 26.913,  26.639,   3.531]])"
       ]
      }
     ],
     "prompt_number": 3
    },
    {
     "cell_type": "code",
     "collapsed": false,
     "input": [
      "xyz.shape"
     ],
     "language": "python",
     "metadata": {},
     "outputs": [
      {
       "metadata": {},
       "output_type": "pyout",
       "prompt_number": 4,
       "text": [
        "(602, 3)"
       ]
      }
     ],
     "prompt_number": 4
    },
    {
     "cell_type": "markdown",
     "metadata": {},
     "source": [
      "We can use the Linux command _grep_ to check that we are extracting the correct coordinates. We use the Linux command _head_ to print just the very few lines."
     ]
    },
    {
     "cell_type": "code",
     "collapsed": false,
     "input": [
      "!grep 'ATOM  ' 1UBQ.pdb | head"
     ],
     "language": "python",
     "metadata": {},
     "outputs": [
      {
       "output_type": "stream",
       "stream": "stdout",
       "text": [
        "ATOM      1  N   MET A   1      27.340  24.430   2.614  1.00  9.67           N  \r\n",
        "ATOM      2  CA  MET A   1      26.266  25.413   2.842  1.00 10.38           C  \r\n",
        "ATOM      3  C   MET A   1      26.913  26.639   3.531  1.00  9.62           C  \r\n",
        "ATOM      4  O   MET A   1      27.886  26.463   4.263  1.00  9.62           O  \r\n",
        "ATOM      5  CB  MET A   1      25.112  24.880   3.649  1.00 13.77           C  \r\n",
        "ATOM      6  CG  MET A   1      25.353  24.860   5.134  1.00 16.29           C  \r\n",
        "ATOM      7  SD  MET A   1      23.930  23.959   5.904  1.00 17.17           S  \r\n",
        "ATOM      8  CE  MET A   1      24.447  23.984   7.620  1.00 16.11           C  \r\n",
        "ATOM      9  N   GLN A   2      26.335  27.770   3.258  1.00  9.27           N  \r\n",
        "ATOM     10  CA  GLN A   2      26.850  29.021   3.898  1.00  9.07           C  \r\n"
       ]
      }
     ],
     "prompt_number": 5
    },
    {
     "cell_type": "markdown",
     "metadata": {},
     "source": [
      "## Distances\n",
      "\n",
      "The euclidian distance between two points in the 3D-space, given the points ($x_0, y_0, z_0$) and ($x_1, y_1, z_1$) is:\n",
      "\n",
      "$$d=\\sqrt{(\\Delta x)^2+(\\Delta y)^2+(\\Delta z)^2}=\\sqrt{(x_1-x_0)^2+(y_1-y_0)^2+(z_1-z_0)^2}$$\n",
      "\n",
      "This formula is just a generalization of the Pythagorean theorem. Other [distances](http://en.wikipedia.org/wiki/Distance) exist but we will not talk about those in this course. Using NumPy we can compute the distance between two points as follows."
     ]
    },
    {
     "cell_type": "code",
     "collapsed": false,
     "input": [
      "def distance(coord, a, b):\n",
      "    \"\"\"Compute the distance between two points\"\"\"\n",
      "    dist = (np.sum((coord[a]-coord[b])**2))**0.5\n",
      "    return dist"
     ],
     "language": "python",
     "metadata": {},
     "outputs": [],
     "prompt_number": 6
    },
    {
     "cell_type": "markdown",
     "metadata": {},
     "source": [
      "The distance bewteen the first and second C$\\alpha$ is:"
     ]
    },
    {
     "cell_type": "code",
     "collapsed": false,
     "input": [
      "d = distance(xyz, 1, 9)\n",
      "print 'Distance: %.3f' % d"
     ],
     "language": "python",
     "metadata": {},
     "outputs": [
      {
       "output_type": "stream",
       "stream": "stdout",
       "text": [
        "Distance: 3.804\n"
       ]
      }
     ],
     "prompt_number": 7
    },
    {
     "cell_type": "markdown",
     "metadata": {},
     "source": [
      "We can get the same result using the following PyMOL function:"
     ]
    },
    {
     "cell_type": "code",
     "collapsed": false,
     "input": [
      "d = cmd.get_distance('index 2', 'index 10')\n",
      "#d = cmd.get_distance('res 1 and name ca', 'res 2 and name ca')\n",
      "print 'Distance: %.3f' % d"
     ],
     "language": "python",
     "metadata": {},
     "outputs": [
      {
       "output_type": "stream",
       "stream": "stdout",
       "text": [
        "Distance: 3.804\n"
       ]
      }
     ],
     "prompt_number": 8
    },
    {
     "cell_type": "code",
     "collapsed": false,
     "input": [
      "def contact_map(coord, cut_off=None):\n",
      "    \"\"\"\n",
      "    A function to compute contact maps.\n",
      "    \n",
      "    Parameters\n",
      "    ----------\n",
      "    coord : array. \n",
      "        cartesian coordinates\n",
      "    cut_off: float. \n",
      "        contact distance\n",
      "    \n",
      "    Returns\n",
      "    -------\n",
      "    arrays of zeros and ones.\n",
      "    \n",
      "    \"\"\"\n",
      "    lenght = len(coord)\n",
      "    d_matrix = np.zeros((lenght, lenght))\n",
      "    for row in range(lenght):\n",
      "        for col in range(lenght):\n",
      "            dist = distance(coord, row, col)\n",
      "            if dist <= cut_off:\n",
      "                d_matrix[row, col] = 1\n",
      "    return d_matrix"
     ],
     "language": "python",
     "metadata": {},
     "outputs": [],
     "prompt_number": 9
    },
    {
     "cell_type": "markdown",
     "metadata": {},
     "source": [
      "## Contact maps\n",
      "\n",
      "A protein [contact map](http://en.wikipedia.org/wiki/Protein_contact_map) is a matrix $\\mathbf{M}$ representing the contacts between aminoacidic residue pairs in a three-dimensional protein structure. Two residues are _in contact_ if their distance is below a certain cutoff $c$:\n",
      "\n",
      "$$\\mathbf{M}_{ij} = \\begin{cases} 1 & \\delta_{ij} \\leq c  \\\\ 0 & otherwise\n",
      "\\end{cases}$$\n",
      "\n",
      "From contacts maps it is possible to identify secondary structure elements: \n",
      "\n",
      "* Helices appear directly adjacent to the diagonal.\n",
      "* Parallel beta sheets are parallel to the diagonal.\n",
      "* Antiparallel beta sheets appear as strips perpendicular to the diagonal\n",
      "\n",
      "Contacts map are 2D models that preserve important features of the 3D structures they represents. As it seems that it could be easy to predict this 2D reduced models than a whole 3D structure a lot of effort have been put (relatively recently) to predict contact maps from sequences (in general multiple sequence alignment). The idea is that if we study a lot of proteins we could detect residues that co-evolve. Of course, two residues could have co-evolved because they are functionally related even when the are not structurally related (they are no in _contact_). Anyway, several methods to predict contact maps have been proposed and in general it is possible to obtain very good result if a lot of sequences are available. Interestingly, it has been show that reconstructing a 3D protein from a contact map is NP-Hard. Heuristics methods to perform this task have been proposed and also a lot of research is going-on to solve this problem.\n",
      "\n",
      "\n",
      "The HB-plot is a representation related to the contact map, the difference is that HB-plots are restricted to residues forming hydrogens bonds. This type of plot can also be very helpful to study proteins."
     ]
    },
    {
     "cell_type": "code",
     "collapsed": false,
     "input": [
      "cm = contact_map(xyz_ca, cut_off=9.)\n",
      "plt.imshow(cm, interpolation='none')\n",
      "plt.grid('off')"
     ],
     "language": "python",
     "metadata": {},
     "outputs": [
      {
       "metadata": {},
       "output_type": "display_data",
       "png": "[encoded data removed]",
       "text": [
        "<matplotlib.figure.Figure at 0x7f5915d10d90>"
       ]
      }
     ],
     "prompt_number": 10
    },
    {
     "cell_type": "markdown",
     "metadata": {},
     "source": [
      "Lets see how we can easily optimize the _contact_map_ function using NumPy and SciPy."
     ]
    },
    {
     "cell_type": "code",
     "collapsed": false,
     "input": [
      "def contact_map_vectorized(coord, cut_off=None):\n",
      "    \"\"\"\n",
      "    A function to compute contact maps.\n",
      "    \n",
      "    Parameters\n",
      "    ----------\n",
      "    coord : array. \n",
      "        cartesian coordinates\n",
      "    cut_off: float. \n",
      "        contact distance\n",
      "    \n",
      "    Returns\n",
      "    -------\n",
      "    arrays of booleans.\n",
      "    \n",
      "    \"\"\"\n",
      "    dist = cdist(coord, coord, metric='euclidean')\n",
      "    return dist <= cut_off"
     ],
     "language": "python",
     "metadata": {},
     "outputs": [],
     "prompt_number": 11
    },
    {
     "cell_type": "code",
     "collapsed": false,
     "input": [
      "cm = contact_map_vectorized(xyz_ca, cut_off=9.)\n",
      "plt.imshow(cm, interpolation='none')\n",
      "plt.grid('off')"
     ],
     "language": "python",
     "metadata": {},
     "outputs": [
      {
       "metadata": {},
       "output_type": "display_data",
       "png": "[encoded data removed]",
       "text": [
        "<matplotlib.figure.Figure at 0x7f5915c57e90>"
       ]
      }
     ],
     "prompt_number": 12
    },
    {
     "cell_type": "markdown",
     "metadata": {},
     "source": [
      "The optimized function is shorter and without any loop and even more important is about 950 times faster, as we can easily measure using the _cell magic timeit_."
     ]
    },
    {
     "cell_type": "code",
     "collapsed": false,
     "input": [
      "%%timeit\n",
      "cm = contact_map(xyz_ca, cut_off=9.)"
     ],
     "language": "python",
     "metadata": {},
     "outputs": [
      {
       "output_type": "stream",
       "stream": "stdout",
       "text": [
        "10 loops, best of 3: 86.7 ms per loop\n"
       ]
      }
     ],
     "prompt_number": 13
    },
    {
     "cell_type": "code",
     "collapsed": false,
     "input": [
      "%%timeit\n",
      "cm = contact_map_vectorized(xyz_ca, cut_off=9.)"
     ],
     "language": "python",
     "metadata": {},
     "outputs": [
      {
       "output_type": "stream",
       "stream": "stdout",
       "text": [
        "10000 loops, best of 3: 91.4 \u00b5s per loop\n"
       ]
      }
     ],
     "prompt_number": 14
    },
    {
     "cell_type": "markdown",
     "metadata": {},
     "source": [
      "## Angles\n",
      "\n",
      "An [angle](http://en.wikipedia.org/wiki/Angle) is the figure formed by two lines, sharing a common endpoint (vertex).\n",
      "\n",
      "Consider two atoms _a_ and _c_, both bonded to a third atom _b_.\n",
      "\n",
      "The angle formed by the three atoms _a_, _b_ and _c_ can be calculated as:\n",
      "\n",
      "$$\\varphi_{abc}=\\arccos \\left(\\frac{\\mathbf{ba} \\cdot \\mathbf{cb}}{|\\mathbf{ba}| |\\mathbf{cb}|}\\right)$$\n",
      "\n",
      "where:  \n",
      "$\\mathbf{ba}$ is the vector (bond) conecting the _a_ and _b_ atoms  \n",
      "$\\mathbf{bc}$ is the vector (bond) conecting the _c_ and _b_ atoms\n",
      "\n",
      "<img src=\"img/Angle.png\" width=300 height=300>"
     ]
    },
    {
     "cell_type": "code",
     "collapsed": false,
     "input": [
      "def get_angle(coord, a, b, c):\n",
      "    # Compute 2 vectors conecting the three points (bonds)\n",
      "    ba = coord[b]-coord[a]\n",
      "    bc = coord[b]-coord[c]\n",
      "\n",
      "    #Measure the angle between those vectors\n",
      "    ba_mod = np.sqrt(np.sum((ba) ** 2))\n",
      "    bc_mod = np.sqrt(np.sum((bc) ** 2))\n",
      "    angle_rad = np.arccos(np.dot(ba, bc) /\n",
      "                             (ba_mod * bc_mod))\n",
      "    \n",
      "    # convert from radians to degree\n",
      "    angle_degree = angle_rad * 180 / np.pi\n",
      "    return angle_degree "
     ],
     "language": "python",
     "metadata": {},
     "outputs": [],
     "prompt_number": 15
    },
    {
     "cell_type": "markdown",
     "metadata": {},
     "source": [
      "Lets use the previous defined function to compute the angle defined by the atoms ($N-C_{\\alpha}-C$) from the first residue."
     ]
    },
    {
     "cell_type": "code",
     "collapsed": false,
     "input": [
      "angle = get_angle(xyz, 0, 1, 2) \n",
      "print 'Torsional angle: %.2f' % angle"
     ],
     "language": "python",
     "metadata": {},
     "outputs": [
      {
       "output_type": "stream",
       "stream": "stdout",
       "text": [
        "Torsional angle: 107.01\n"
       ]
      }
     ],
     "prompt_number": 16
    },
    {
     "cell_type": "markdown",
     "metadata": {},
     "source": [
      "We can obtain the same result using the PyMOL API command _[get_angle](http://www.pymolwiki.org/index.php/Get_Angle)_"
     ]
    },
    {
     "cell_type": "code",
     "collapsed": false,
     "input": [
      "angle = cmd.get_angle('index 1', 'index 2', 'index 3') # pymol count from 1 \n",
      "print 'Torsional angle: %.2f' % angle"
     ],
     "language": "python",
     "metadata": {},
     "outputs": [
      {
       "output_type": "stream",
       "stream": "stdout",
       "text": [
        "Torsional angle: 107.01\n"
       ]
      }
     ],
     "prompt_number": 17
    },
    {
     "cell_type": "markdown",
     "metadata": {},
     "source": [
      "## Torsional angles\n",
      "\n",
      "A torsional angle, or dihedral, is defined as the angle between two planes.\n",
      "\n",
      "How to measure the angle between two planes? Well, as we saw in the previous section we could define an angle in terms of two lines. Hence one solution to measure the angle between planes is to define two lines that are related to those planes. The intuitive approach will be to define the lines perpendicular to the line where the planes intersect and that are lying within the planes. The problem with this idea is that the mathematics involved are somehow complicated. An easier approach is the following:\n",
      "\n",
      "\n",
      "* Compute the 3 vectors, $\\mathbf{ba}$, $\\mathbf{cb}$ and $\\mathbf{dc}$ connecting the four atoms (these corresponds to the _bonds_ between those atoms), the first and second bond define the $\\mathbf{A}$ plane, the second and third define the $\\mathbf{B}$ plane (the translucid grey rectangles in the below figure).\n",
      "* Compute the normal vector for each of plane (black arrow)\n",
      "* Measure the angle between those normal vectors\n",
      "\n",
      "\n",
      "$$\\varphi_{AB}=\\arccos \\left(\\frac{\\mathbf{u_A} \\cdot \\mathbf{u_B}}{|\\mathbf{u_A}| |\\mathbf{u_B}|}\\right)$$\n",
      "\n",
      "were:\n",
      "$\\mathbf{u_A}$ is the normal vector to plane $\\mathbf{A}$\n",
      "$\\mathbf{u_B}$ is the normal vector to plane $\\mathbf{B}$\n",
      "\n",
      "\n",
      "<img src=\"img/Torsional.png\" width=300 height=300>\n",
      "\n",
      "* Convert from radians to degree\n",
      "* Compute the sign of the vector \n",
      "\n",
      "By convention, torsionals angle are defined in the range [-180$^\\circ$, 180$^\\circ$]. But the result of our calculations are in the range [0, 180$^\\circ$]. Then, we need to find out the correct sign \n",
      "\n",
      "Visually we can find the sign by looking along the bond defined by the second and third atoms, the second atom should be eclipsing the third and the four atom should be to the left. If the first atom above the plane $\\mathbf{B}$ then we have a positive angle, otherwise we have a negative one. \n",
      "\n",
      "As you may guess the above _algorithm_ does not translate easily to mathematics. Instead we can just compute a dot product between the unit vector $\\mathbf{u_A}$ and the vector connecting the last two atoms $\\mathbf{dc}$. If the result is positive we have a positive angle otherwise we have a negative one."
     ]
    },
    {
     "cell_type": "code",
     "collapsed": false,
     "input": [
      "def get_torsional(a, b, c, d):\n",
      "    \"\"\"Compute the torsional angle given four points\"\"\"\n",
      "    # Compute 3 vectors conecting the four points\n",
      "    ba = xyz[b]-xyz[a]\n",
      "    cb = xyz[c]-xyz[b]\n",
      "    dc = xyz[d]-xyz[c]\n",
      "\n",
      "    # Compute the normal vector to each plane\n",
      "    u_A = np.cross(ba, cb)\n",
      "    u_B = np.cross(cb, dc)\n",
      "\n",
      "    #Measure the angle between the two normal vectors\n",
      "    u_A_mod = np.sqrt(np.sum((u_A) ** 2))\n",
      "    u_B_mod = np.sqrt(np.sum((u_B) ** 2))\n",
      "    tor_rad = np.arccos(np.dot(u_A, u_B) /\n",
      "                             (u_A_mod * u_B_mod))\n",
      "    \n",
      "    # convert from radians to degrees\n",
      "    tor_degree = tor_rad * 180 / np.pi\n",
      "    \n",
      "    # compute the sign\n",
      "    sign = np.dot(u_A, dc)\n",
      "    if sign > 0:\n",
      "        return tor_degree\n",
      "    else:\n",
      "        return -tor_degree"
     ],
     "language": "python",
     "metadata": {},
     "outputs": [],
     "prompt_number": 18
    },
    {
     "cell_type": "markdown",
     "metadata": {},
     "source": [
      "Let use the previous defined function and compute the $\\psi$  torsional angle ($N_i-C_{\\alpha i}-C_i-N_{i+1}$) from the first residue."
     ]
    },
    {
     "cell_type": "code",
     "collapsed": false,
     "input": [
      "tor = get_torsional(0, 1, 2, 8) \n",
      "print 'Torsional angle: %.2f' % tor"
     ],
     "language": "python",
     "metadata": {},
     "outputs": [
      {
       "output_type": "stream",
       "stream": "stdout",
       "text": [
        "Torsional angle: 149.63\n"
       ]
      }
     ],
     "prompt_number": 19
    },
    {
     "cell_type": "markdown",
     "metadata": {},
     "source": [
      "We can check the above result using the PyMOL function _[get_dihedral](http://www.pymolwiki.org/index.php/Get_Dihedral)_"
     ]
    },
    {
     "cell_type": "code",
     "collapsed": false,
     "input": [
      "tor = cmd.get_dihedral('index 1', 'index 2', 'index 3', 'index 9')\n",
      "print 'Torsional angle: %.2f' % tor"
     ],
     "language": "python",
     "metadata": {},
     "outputs": [
      {
       "output_type": "stream",
       "stream": "stdout",
       "text": [
        "Torsional angle: 149.63\n"
       ]
      }
     ],
     "prompt_number": 20
    },
    {
     "cell_type": "markdown",
     "metadata": {},
     "source": [
      "## Ramachandran plot\n",
      "\n",
      "A [Ramachandran plot](http://en.wikipedia.org/wiki/Ramachandran_plot) is scatter plot of the dihedral angles $\\phi$ and $\\psi$ of amino acid residues in protein structures (for other molecules we could also have ramachandran-like plots). The first ramachandran plot was computed by hand and include only steric repulsive forces. Now we have access to high-quality experimentally determined Ramachandran plots like the one compiled by [Dumbrack's lab](http://dunbrack.fccc.edu/ndrd/).\n",
      "\n",
      "A Ramachandran plot can be used to show the theoretical $\\phi$ and $\\psi$ allowed angles (as in the original Ramachandran plot). Alternatively, it can be used to show the empirical distribution of $\\phi$ and $\\psi$ angles, for example during structure validation.\n",
      "\n",
      "Combining the PyMol _get_dihedral_ dihedral function and the PyMOL selection algebra is straightforward to compute a Ramachandran map."
     ]
    },
    {
     "cell_type": "code",
     "collapsed": false,
     "input": [
      "def get_residues_num():\n",
      "    stored.ResiduesNumber = []\n",
      "    cmd.iterate('(name ca)', 'stored.ResiduesNumber.append(resi)')\n",
      "    first = int(stored.ResiduesNumber[0])\n",
      "    last = int(stored.ResiduesNumber[-1])\n",
      "    return first, last\n",
      "\n",
      "def get_phi(res_num):\n",
      "    if res_num != first:\n",
      "        cmd.select('A', 'resi %s and name C' % (res_num-1))\n",
      "        cmd.select('B', 'resi %s and name N' % res_num)\n",
      "        cmd.select('C', 'resi %s and name CA' % res_num)\n",
      "        cmd.select('D', 'resi %s and name C' % res_num)\n",
      "        return cmd.get_dihedral('A', 'B', 'C', 'D')\n",
      "    else:\n",
      "        return float('nan')\n",
      "\n",
      "\n",
      "def get_psi(res_num):\n",
      "    if res_num != last:\n",
      "        cmd.select('A', 'resi %s and name N' % res_num)\n",
      "        cmd.select('B', 'resi %s and name CA' % res_num)\n",
      "        cmd.select('C', 'resi %s and name C' % res_num)\n",
      "        cmd.select('D', 'resi %s and name N' % (res_num+1))\n",
      "        psi = cmd.get_dihedral('A', 'B', 'C', 'D')\n",
      "        return psi\n",
      "    else:\n",
      "        return float('nan')"
     ],
     "language": "python",
     "metadata": {},
     "outputs": [],
     "prompt_number": 21
    },
    {
     "cell_type": "code",
     "collapsed": false,
     "input": [
      "first, last = get_residues_num()\n",
      "\n",
      "phi = []\n",
      "psi = []\n",
      "for i in range(first, last+1):\n",
      "    phi.append(get_phi(i))\n",
      "    psi.append(get_psi(i))\n",
      "\n",
      "plt.figure(figsize=(6, 6))\n",
      "plt.scatter(phi, psi)\n",
      "plt.xlabel('$\\phi$', fontsize=16)\n",
      "plt.ylabel('$\\psi$', fontsize=16, rotation=0)\n",
      "plt.xlim(-180, 180) \n",
      "plt.ylim(-180, 180);"
     ],
     "language": "python",
     "metadata": {},
     "outputs": [
      {
       "metadata": {},
       "output_type": "display_data",
       "png": "[encoded data removed]",
       "text": [
        "<matplotlib.figure.Figure at 0x7f5915bf6610>"
       ]
      }
     ],
     "prompt_number": 22
    },
    {
     "cell_type": "markdown",
     "metadata": {},
     "source": [
      "## Radius of Gyration\n",
      "\n",
      "The radius of gyration is used to describe the dimensions of a polymeric chain and is defined as:\n",
      "\n",
      "$$Rg = \\sqrt{\\frac{1}{N} \\sum_{i=1}^{N} (r_i - r_{mean})^{2}}$$\n",
      "\n",
      "where:  \n",
      "$r_{mean}$ is the geometric center of the polymer. \n",
      "$$r_{mean} = \\frac 1N \\sum_{i=1}^N r_i$$\n",
      "\n",
      "\n",
      "[There is](http://www.pnas.org/content/102/45/16227) an empirical relationship between the radius of gyration and the number $N$ of aminoacids in a protein sequence.\n",
      "\n",
      " $$Rg_{theo} = 0.395*N^{\\frac{3}{5}} + 7.257$$\n",
      "\n",
      "The radius of gyration is also related to a theoretical and experimental measure called  [hydrodynamic radius](https://en.wikipedia.org/wiki/Hydrodynamic_radius).\n",
      "\n",
      "Sometimes the radius of gyration is used as part of a penalization term during simulation of compact molecules to avoid spending computational resources in simulating unfolded states. In general a quadratic error term is used when the theoretical and the computed radius of gyrations differ."
     ]
    },
    {
     "cell_type": "code",
     "collapsed": false,
     "input": [
      "xyz_mean = np.average(xyz, axis=0)\n",
      "rg = np.sqrt(np.sum((xyz - xyz_mean)**2)/len(xyz))\n",
      "print 'Radius of gyration: %.2f' % rg\n",
      "\n",
      "cmd.pseudoatom('sphere_rg', pos=tuple(xyz_mean), vdw=rg, color='blue')\n",
      "cmd.set('sphere_transparency', 0.5)\n",
      "cmd.set('sphere_quality', 2)\n",
      "cmd.hide('everything')\n",
      "cmd.show('cartoon')\n",
      "cmd.show(\"spheres\", 'sphere_rg')"
     ],
     "language": "python",
     "metadata": {},
     "outputs": [
      {
       "output_type": "stream",
       "stream": "stdout",
       "text": [
        "Radius of gyration: 11.73\n"
       ]
      }
     ],
     "prompt_number": 24
    },
    {
     "cell_type": "markdown",
     "metadata": {},
     "source": [
      "Sometimes the radius of gyration is defined as a mass-weighted average:\n",
      "\n",
      "$$Rg = \\sqrt{\\frac{1}{M} \\sum_{i=1}^{N} m_i (r_i - r_{com})^{2}}$$\n",
      "\n",
      "where:  \n",
      "$r_{com}$ is the center of mass of the polymer. \n",
      "$$r_{com} = \\frac 1M \\sum_{i=1}^N m_i r_i$$\n",
      "\n",
      "$m_i$ is the mass of the $i^{th}$ atom  \n",
      "$M$ is the total mass of the system  \n",
      "\n",
      "Since hydrogens are not always present in the pdb files, in general the radius of gyration is computed ignoring hydrogens atoms.\n",
      "\n",
      "Before continue we are going to remove the sphere. We will do this to avoid confusions in the next sections. The sphere is a pseudo atom with coordinates and properties similar to real atoms. Hence, if we ask PyMOL for coordinates or properties of our molecule the coordinates and properties of the sphere will be included."
     ]
    },
    {
     "cell_type": "code",
     "collapsed": false,
     "input": [
      "cmd.remove('sphere_rg')"
     ],
     "language": "python",
     "metadata": {},
     "outputs": [],
     "prompt_number": 25
    },
    {
     "cell_type": "code",
     "collapsed": false,
     "input": [
      "model_atom = model.atom\n",
      "mass = np.array([i.get_mass() for i in model_atom]).reshape(len(model_atom), 1)\n",
      "M = np.sum(mass)\n",
      "\n",
      "xyz_com = np.sum(xyz * mass, axis=0) / M\n",
      "rg = (np.sum(mass* (xyz - xyz_com)**2) / M)**0.5\n",
      "\n",
      "print 'Radius of gyration: %.2f' % rg"
     ],
     "language": "python",
     "metadata": {},
     "outputs": [
      {
       "output_type": "stream",
       "stream": "stdout",
       "text": [
        "Radius of gyration: 11.79\n"
       ]
      }
     ],
     "prompt_number": 26
    },
    {
     "cell_type": "code",
     "collapsed": false,
     "input": [
      "cmd.remove('sphere_rg')"
     ],
     "language": "python",
     "metadata": {},
     "outputs": [],
     "prompt_number": 27
    },
    {
     "cell_type": "markdown",
     "metadata": {},
     "source": [
      "## Hydrogens Bonds\n",
      "\n",
      "An [hydrogen bond](http://en.wikipedia.org/wiki/Hydrogen_bond) is the atractive force (a  dipole-dipole attraction) between an hydrogen attached to a highly electronegative atom (such as nitrogen or oxygen) and other electronegative atom. Hydrogen bonds interactions are stronger than van der Waals and weaker than covalent bonds.\n",
      "\n",
      "<img src=\"img/HB.png\" width=200 height=200>\n",
      "\n",
      "The are several ways to compute and hydrogen bond from the cartesian coordinates of a molecule, probably the simplest one is to define it using 1 angle and 1 distance (other definitions involve more than one angle and/or distance). In this context an hydrogen bond is formed between an atom with an hydrogen (H) bonded to it (the donor, D) and another atom (the acceptor, A) if:\n",
      "\n",
      "* The distance D-A is less than a cut-off distance (usually 3.5 $\\mathring A$).\n",
      "* The angle D-H-A is greater than a cut-off angle (usually 90$^\\circ$). \n",
      "\n",
      "Using this criteria, an optimal hydrogen bond will be one with a distance D-A of ~2.2 $\\mathring A$ and with a value of 180$^\\circ$ for the D-H-A angle. \n",
      "\n",
      "Under PyMOL is possible to measure hydrogen bonds using the _find_pairs_ command. When using this command is important to be sure to provide the appropriate atom selections, because _find_pairs_ only checks atom orientation, not atom type. The command returns a list of tuples with the name of the object and the index of the atom for each pair of atoms that satisfied the selected criteria. "
     ]
    },
    {
     "cell_type": "code",
     "collapsed": false,
     "input": [
      "donor = 'res 1 and name N'\n",
      "aceptor =  'res 17 and name O'\n",
      "cmd.find_pairs(donor, aceptor, mode=1, cutoff=3.5, angle=40)"
     ],
     "language": "python",
     "metadata": {},
     "outputs": [
      {
       "metadata": {},
       "output_type": "pyout",
       "prompt_number": 28,
       "text": [
        "[(('1UBQ', 1), ('1UBQ', 130))]"
       ]
      }
     ],
     "prompt_number": 28
    },
    {
     "cell_type": "markdown",
     "metadata": {},
     "source": [
      "## Dehydrons\n",
      "\n",
      "A dehydron is a protein backbone hydrogen bond incompletely shielded from water attack. A desolvated hydrogen bond is energetically more favourable than one exposed to the solvent and hence dehydrons are sticky , since they promote the removal of surrounding water through protein associations or ligand binding.\n",
      "\n",
      "Dehydrons are less conserved than other structural motifs, hence identification of dehydrons could help to increase specificity during the rational drug design process. Certain proteins are enriched in dehydrons such as membrane proteins, toxic proteins and proteins that have a strong tendency to aggregate.\n",
      "\n",
      "A putative dehydron can be detected by counting the number of wrappers that surround a hydrogen bond. A wrapper is defined as a carbon atom not bonded directly to an oxygen or nitrogen atom, _i.e._ a non-polar carbon atom. A dehydron is defined by the number of wrappers inside two overlapping spheres centred at the C$\\alpha$ carbon of the donor and acceptor residues. If the number of wrappers around an hydrogen bond is below a certain cut-off value that hydrogen bond is identified as a dehydron.\n",
      "\n",
      "One way to define that cut-off is by analysing a large number of high quality X-ray proteins and measuring the number of wrappers per hydrogen bond. The next figure is the result of such analysis.\n",
      "\n",
      "<img src=\"http://www.pymolwiki.org/images/thumb/c/c0/Wrappers_histogram.png/350px-Wrappers_histogram.png\" width=250 height=250>\n",
      "\n",
      "The frequency of wrappers in this set of proteins approximate a Gaussian distribution with a mean of ~27 and a standard deviation of ~8, hence an hydrongen bond with less than 19 wrappers is defined as a dehydron (27-8 = 19). In the same fashion and over-wrapped hydrogen bond is and hydrogen bond with more than 35 wrappers (27+8).\n",
      "\n",
      "A convenient way to estimate dehydrons is by using the [wrappy plugin](http://www.pymolwiki.org/index.php/Dehydron).  \n",
      "\n",
      "Computing dehydrons using PyMOL is relativelly easy thanks to the [Selection Algebra](http://www.pymolwiki.org/index.php/Selection_Algebra) features available in PyMOL.\n",
      "\n",
      "The following code is a slightly different version from the one in the plugin."
     ]
    },
    {
     "cell_type": "code",
     "collapsed": false,
     "input": [
      "def dehydron(selection='all', angle_range=40, \n",
      "             max_distance=3.5, desolv=6.5, min_wrappers=19):\n",
      "    \n",
      "    # obtain a valid name for the selection\n",
      "    DH_name = cmd.get_legal_name('DH_%s' % selection)\n",
      "    # avoid appeding results\n",
      "    cmd.delete(DH_name) \n",
      "\n",
      "    # Ensures that your selection excludes ligands and small molecules    \n",
      "    selection_hb = '((%s) and polymer)' % (selection)\n",
      "    # Get pairs of hydrogen bonds. \n",
      "    #\"Byres\" expands te selection to complete residues.\n",
      "    hb = cmd.find_pairs(\"((byres %s) and name n)\" % selection_hb, \n",
      "                        \"((byres %s) and name o)\" % selection_hb,\n",
      "                        mode=1, cutoff=max_distance, angle=angle_range)\n",
      "    #Sort the hydrogen bonds\n",
      "    hb.sort()\n",
      "    print \"--------------------------------------------------------------------\"\n",
      "    print \"--------------------------Dehydron Results--------------------------\"\n",
      "    print \"--------------------------------------------------------------------\"\n",
      "    print \"            Donor             |            Aceptor           |\"\n",
      "    print \"     Object   Chain Residue   |     Object   Chain Residue   | # wrappers\"\n",
      "\n",
      "    cmd.select('_nonpolar', '(elem C) and not (solvent or (elem N+O) extend 1)')\n",
      "    cmd.select('_selection', '%s' % selection)\n",
      "\n",
      "    for pairs in hb:\n",
      "        # Count the number of wrappers around the ca (byca) for each hb\n",
      "        wrappers = cmd.count_atoms(\n",
      "'((%s and _nonpolar and _selection) within %f of byca (%s`%d %s`%d))' % \n",
      "                ((pairs[0][0], desolv) + pairs[0] + pairs[1]))\n",
      "        if wrappers < min_wrappers:\n",
      "            space = {'nitro':[], 'oxy':[]}\n",
      "            cmd.distance(DH_name, pairs[0], pairs[1]) # plot hb\n",
      "            cmd.iterate(pairs[0], 'nitro.append((chain, resi, resn))', space=space)\n",
      "            cmd.iterate(pairs[1], 'oxy.append((chain, resi, resn))', space=space)\n",
      "            print ' %12s%4s%6s%6s | %12s%4s%6s%6s |%7s' % (pairs[0][0],\n",
      "                                                        space['nitro'][0][0], \n",
      "                                                        space['nitro'][0][2], \n",
      "                                                        space['nitro'][0][1], \n",
      "                                                        pairs[1][0], \n",
      "                                                        space['oxy'][0][0], \n",
      "                                                        space['oxy'][0][2], \n",
      "                                                        space['oxy'][0][1], \n",
      "                                                        wrappers)\n",
      "    cmd.delete('_nonpolar')\n",
      "    cmd.delete('_selection')\n",
      "    cmd.show_as('dashes', DH_name) # show hb as dashes"
     ],
     "language": "python",
     "metadata": {},
     "outputs": [],
     "prompt_number": 29
    },
    {
     "cell_type": "markdown",
     "metadata": {},
     "source": [
      "Let's compute the dehydrons for our molecule."
     ]
    },
    {
     "cell_type": "code",
     "collapsed": false,
     "input": [
      "dehydron()"
     ],
     "language": "python",
     "metadata": {},
     "outputs": [
      {
       "output_type": "stream",
       "stream": "stdout",
       "text": [
        "--------------------------------------------------------------------\n",
        "--------------------------Dehydron Results--------------------------\n",
        "--------------------------------------------------------------------\n",
        "            Donor             |            Aceptor           |\n",
        "     Object   Chain Residue   |     Object   Chain Residue   | # wrappers\n",
        "         1UBQ   A   THR     7 |         1UBQ   A   LYS    11 |     17\n",
        "         1UBQ   A   GLY    10 |         1UBQ   A   THR     7 |     15\n",
        "         1UBQ   A   GLU    24 |         1UBQ   A   ASP    52 |     18\n",
        "         1UBQ   A   ASP    32 |         1UBQ   A   ALA    28 |     15\n",
        "         1UBQ   A   GLY    35 |         1UBQ   A   GLN    31 |     16\n",
        "         1UBQ   A   ARG    54 |         1UBQ   A   GLU    51 |     18\n"
       ]
      }
     ],
     "prompt_number": 30
    },
    {
     "cell_type": "markdown",
     "metadata": {},
     "source": [
      "## Surface Area\n",
      "\n",
      "The [solvent-accessible surface area](http://en.wikipedia.org/wiki/Accessible_surface_area) (SASA) is the surface area of a biomolecule that is accessible to the solvent. \n",
      "\n",
      "<img src=\"img/SASA.png\" width=200 height=200>\n",
      "\n",
      "A well-know analytical method to compute the SASA is the LCPO method. This method is analytical, but solves an aproximated version of the problem, providing a quick calculation of the SASA while introducing small errors (~1-3 $\\mathring A$$^2$). \n",
      "\n",
      "A numerical method to calculate the SASA is to use the [Shrake & Rupley algorithm](http://www.ncbi.nlm.nih.gov/pubmed/4760134). Conceptually, this method rolls a sphere (representing the solvent), all over the surface of the molecule. \n",
      "\n",
      "### The Shrake and Rupley algorithm step by step\n",
      "\n",
      "The algorithm to compute SASA is a little bit more complex than what we have seen so far, but is nothing to worry. \n",
      "\n",
      "The first step in the Shrake-Rupley algorithm is to draw a mesh of (aproximatelly) evenly distributed points around each atom. Initially the points are drawn on the unit sphere and then scaled to a given radius (the solvent radius + the van der Waals radius) of each atom. Each point represents a small portion of the total area. Thus, the solvent accesible surface area can be determined by counting the points that are exposed to the solvent (_i.e._ not buried by the neighboring atoms). Increasing the number of points should decrease the error and increase the computational cost. The choice of the solvent radius also affects the computed area, the smaller the radius the larger the computed area. A typical value for the solvent radius is 1.4 $\\mathring A$, which is aproximatelly the radius of a water molecule. \n",
      "\n",
      "The Shrake and Rupley algorithm can be divided into 3 functions.\n",
      "\n",
      "#### Generate a mesh of evenly distributed points on the surface of a sphere\n",
      "\n",
      "There is no exact method to generate such a mesh, the Shrake-Rupley algorithm relies on an aproximation that is based on the [Golden ratio](http://en.wikipedia.org/wiki/Golden_ratio)."
     ]
    },
    {
     "cell_type": "code",
     "collapsed": false,
     "input": [
      "def generate_sphere_points(n):\n",
      "    \"\"\"\n",
      "    Return an array of evenly distributed points on the \n",
      "    surface of the unit sphere using the Golden-Section\n",
      "    Spiral algorithm.\n",
      "    \n",
      "    Parameters\n",
      "    ----------\n",
      "    n : int. Number of points\n",
      "    \n",
      "    \"\"\"\n",
      "    \n",
      "    golden_angle = np.pi * (3 - 5**0.5)\n",
      "\n",
      "    theta = golden_angle * np.arange(n)\n",
      "    z = np.linspace(1 - (1 / n), (1 / n) - 1, n)\n",
      "    radius = np.sqrt(1 - z**2)\n",
      "    points = np.zeros((n, 3))\n",
      "    # change from polar to cartesian coordinates\n",
      "    points[:,0] = radius * np.cos(theta)\n",
      "    points[:,1] = radius * np.sin(theta)\n",
      "    points[:,2] = z\n",
      "    \n",
      "    return points"
     ],
     "language": "python",
     "metadata": {},
     "outputs": [],
     "prompt_number": 31
    },
    {
     "cell_type": "code",
     "collapsed": false,
     "input": [
      "points = generate_sphere_points(1000)\n",
      "fig = plt.figure(figsize=(7, 7))\n",
      "ax = fig.add_subplot(1, 1, 1, projection='3d')\n",
      "ax.scatter(points[:,0], points[:,1], points[:,2]);"
     ],
     "language": "python",
     "metadata": {},
     "outputs": [
      {
       "metadata": {},
       "output_type": "display_data",
       "png": "[encoded data removed]",
       "text": [
        "<matplotlib.figure.Figure at 0x7f5915c2f7d0>"
       ]
      }
     ],
     "prompt_number": 32
    },
    {
     "cell_type": "markdown",
     "metadata": {},
     "source": [
      "#### Create a function to compute the neighbor atoms\n",
      "\n",
      "The next thing we need to do is to compute the neighbors for each atom. In this context two atoms are neighbors if is not possible to put a water molecule between them. In other words, two atoms are neighbors if the distance between their centers is less that the diameter of the solvent plus the van der Waals radius of both atoms.   \n",
      "The idea of creating this function is to reduce the computational cost of the SASA calculation if two atoms are not neighbors, then they can't bury each other."
     ]
    },
    {
     "cell_type": "code",
     "collapsed": false,
     "input": [
      "# create a list with the vdW radius for each atom\n",
      "stored.vdW = []\n",
      "cmd.iterate('all', 'stored.vdW.append(vdw)')\n",
      "# compute the distance matrix\n",
      "dist = cdist(xyz, xyz, metric='euclidean')\n",
      "\n",
      "def get_neighbors(coord, probe, k):\n",
      "    \"\"\"\n",
      "    Return list of indices of neighbors. \n",
      "    \n",
      "    Parameters\n",
      "    ----------\n",
      "    coord : Array (n,3). Cartesian coordinates\n",
      "    probe : float. Radius of the solvent\n",
      "    k: int. atom for which the neighbors will be computed\n",
      "    \n",
      "    \"\"\"\n",
      "    neighbor_indices = []\n",
      "    radius = stored.vdW[k] + probe * 2\n",
      "    # avoid comparing an atom with itself\n",
      "    for idx in range(len(coord)):\n",
      "        if idx != k:\n",
      "            if dist[idx, k] < radius + stored.vdW[idx]:\n",
      "                neighbor_indices.append(idx)\n",
      "    return neighbor_indices"
     ],
     "language": "python",
     "metadata": {},
     "outputs": [],
     "prompt_number": 33
    },
    {
     "cell_type": "markdown",
     "metadata": {},
     "source": [
      "Now we are ready to combine the functions _generate_sphere_points_ and _get_neighbors_ to compute the SASA."
     ]
    },
    {
     "cell_type": "code",
     "collapsed": false,
     "input": [
      "def get_sasa(coord, probe=1.4, n_points=1000):\n",
      "    \"\"\"\n",
      "    Returns the solvent-accessible-surface area\n",
      "    \n",
      "    Parameters\n",
      "    ----------\n",
      "    coord : Array (n,3). Cartesian coordinates\n",
      "    probe : float. Radisu of the solvent\n",
      "    n : int. Number of points\n",
      "    \n",
      "    \"\"\"\n",
      "    points = generate_sphere_points(n_points)\n",
      "    # compute the area each point represents\n",
      "    const = 4.0 * np.pi / n_points\n",
      "    areas = []\n",
      "    for i in range(len(coord)):\n",
      "        # scale the points to the correct radius\n",
      "        radius = stored.vdW[i] + probe\n",
      "        points_scaled = coord[i] + points * radius\n",
      "        # get all the neighbors of the i residue\n",
      "        neighbors = get_neighbors(coord, 1.4, i)\n",
      "        # compute the distance between points and neighbors\n",
      "        d_matrix = cdist(points_scaled, coord[neighbors],\n",
      "                     metric='euclidean')\n",
      "        # create a matrix and store the vdW radii for each neighbor\n",
      "        nb_matrix = np.zeros((n_points, len(neighbors)))\n",
      "        for nb_i, nb in enumerate(neighbors):\n",
      "            nb_matrix[:,nb_i] =  stored.vdW[nb]\n",
      "        # compute the number of buried points, we have to be carefull\n",
      "        # because we have counted how many times a point is buried\n",
      "        # and we only need how many points are buried\n",
      "        buried = np.sum(np.sum(d_matrix < nb_matrix + probe, axis=1) > 0)\n",
      "        exposed = n_points  - buried\n",
      "        area = const * exposed * radius**2\n",
      "        areas.append(area)\n",
      "    return areas"
     ],
     "language": "python",
     "metadata": {},
     "outputs": [],
     "prompt_number": 57
    },
    {
     "cell_type": "code",
     "collapsed": false,
     "input": [
      "sasa = get_sasa(xyz, probe=1.4, n_points=1000)\n",
      "print 'SASA = %.2f' % sum(sasa)"
     ],
     "language": "python",
     "metadata": {},
     "outputs": [
      {
       "output_type": "stream",
       "stream": "stdout",
       "text": [
        "SASA = 4870.62\n"
       ]
      }
     ],
     "prompt_number": 58
    },
    {
     "cell_type": "code",
     "collapsed": false,
     "input": [
      "cmd.set('dot_solvent', 1)\n",
      "cmd.set('dot_density', 2) \n",
      "cmd.set('solvent_radius', 2) \n",
      "cmd.get_area('all')"
     ],
     "language": "python",
     "metadata": {},
     "outputs": [
      {
       "metadata": {},
       "output_type": "pyout",
       "prompt_number": 36,
       "text": [
        "4878.47119140625"
       ]
      }
     ],
     "prompt_number": 36
    },
    {
     "cell_type": "code",
     "collapsed": false,
     "input": [
      "sasas = []\n",
      "for i in range(500, 10001, 500):\n",
      "    sasas.append(sum(get_sasa(xyz, probe=1.4, n_points=i)))"
     ],
     "language": "python",
     "metadata": {},
     "outputs": [],
     "prompt_number": 34
    },
    {
     "cell_type": "code",
     "collapsed": false,
     "input": [
      "plt.plot(range(500,10001,500), sasas)\n",
      "plt.xlabel('Number of points')\n",
      "plt.ylabel('SASA ($\\AA^2$)');"
     ],
     "language": "python",
     "metadata": {},
     "outputs": [
      {
       "metadata": {},
       "output_type": "display_data",
       "png": "[encoded data removed]",
       "text": [
        "<matplotlib.figure.Figure at 0x7f5866bc14d0>"
       ]
      }
     ],
     "prompt_number": 35
    },
    {
     "cell_type": "markdown",
     "metadata": {},
     "source": [
      "### Further reading\n",
      "\n",
      "[PconPy](http://bioinformatics.oxfordjournals.org/content/24/24/2934.full) is a Python module for generating 2D protein maps.  \n",
      "[asa.py](http://boscoh.com/protein/calculating-the-solvent-accessible-surface-area-asa.html) An alternative Python implementation of the Shrake and Rupley algotithm. The implementation of the SASA algorithm discused in this chapter is based on asa.py    \n",
      "[The mysterious regions of the ramachandran plot](http://boscoh.com/protein/the-mysterious-regions-of-the-ramachandran-plot.html) A very interesting post about the Ramachandran Plot"
     ]
    }
   ],
   "metadata": {}
  }
 ]
}