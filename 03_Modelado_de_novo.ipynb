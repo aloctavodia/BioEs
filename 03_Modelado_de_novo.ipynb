{
 "cells": [
  {
   "cell_type": "markdown",
   "metadata": {},
   "source": [
    "# Modelado de novo\n",
    "\n",
    "Funciones de scoring en Rosetta, componentes. Modelos coarse-grain y de todos los átomos.\n",
    "Método de área expuesta para estimar la energía libre de solvatación. Otros métodos para\n",
    "modelar la energía libre de solvatación. Métodos de Monte Carlo y números seudo-aleatorios.\n",
    "Monte Carlo con Criterio de Metropolis-Hastings. Promedio Boltzmann. Métodos de\n",
    "optimización global: Monte Carlo con Minimización, simulated annealing. Modelado de novo.\n",
    "Diseño de proteínas. Plegamiento de ácidos nucleicos. Restricciones de NMR."
   ]
  },
  {
   "cell_type": "code",
   "execution_count": null,
   "metadata": {
    "collapsed": true
   },
   "outputs": [],
   "source": []
  }
 ],
 "metadata": {
  "kernelspec": {
   "display_name": "Python 2",
   "language": "python",
   "name": "python2"
  },
  "language_info": {
   "codemirror_mode": {
    "name": "ipython",
    "version": 2
   },
   "file_extension": ".py",
   "mimetype": "text/x-python",
   "name": "python",
   "nbconvert_exporter": "python",
   "pygments_lexer": "ipython2",
   "version": "2.7.10"
  }
 },
 "nbformat": 4,
 "nbformat_minor": 0
}
