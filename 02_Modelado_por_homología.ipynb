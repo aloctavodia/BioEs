{
 "cells": [
  {
   "cell_type": "markdown",
   "metadata": {},
   "source": [
    "# Modelado por homología.\n",
    "\n",
    "Modelado por homología. Potenciales estadísticos DOPE. Satisfacción de\n",
    "restricciones espaciales. Pasos para el modelado por homología: selección de la plantilla,\n",
    "alineamiento, modelado, validación y refinamiento. Validación usando herramientas externas:\n",
    "ModEval. What-if, PSVS, CheShift-2. Uso de Modeller en el ajuste de estructuras a mapas de\n",
    "crio-electrón microscopía."
   ]
  }
 ],
 "metadata": {
  "kernelspec": {
   "display_name": "Python 2",
   "language": "python",
   "name": "python2"
  },
  "language_info": {
   "codemirror_mode": {
    "name": "ipython",
    "version": 2
   },
   "file_extension": ".py",
   "mimetype": "text/x-python",
   "name": "python",
   "nbconvert_exporter": "python",
   "pygments_lexer": "ipython2",
   "version": "2.7.10"
  }
 },
 "nbformat": 4,
 "nbformat_minor": 0
}
