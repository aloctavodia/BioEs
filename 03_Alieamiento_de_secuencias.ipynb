{
 "metadata": {
  "name": "",
  "signature": "sha256:96203bef65ac75b92bf07ba10e23000406e68e3f1054752f732d107d1c7aff09"
 },
 "nbformat": 3,
 "nbformat_minor": 0,
 "worksheets": [
  {
   "cells": [
    {
     "cell_type": "markdown",
     "metadata": {},
     "source": [
      "# Sequence alignment and clustering"
     ]
    },
    {
     "cell_type": "code",
     "collapsed": false,
     "input": [
      "% matplotlib inline\n",
      "from __future__ import division\n",
      "import numpy as np\n",
      "np.set_printoptions(linewidth=200)\n",
      "import matplotlib.pyplot as plt\n",
      "import seaborn as sns"
     ],
     "language": "python",
     "metadata": {},
     "outputs": [],
     "prompt_number": 1
    },
    {
     "cell_type": "markdown",
     "metadata": {},
     "source": [
      "Biological sequences encodes a lot of information and, hence a large portion of bioinformatics research is devoted to the development of methods to extract and use that information. The biological relevant information can be interpreted at least from two (related) points of view, the functional and the evolutionary one. As you may guess, processing sequential data into knowledge is not an easy task. In general, this is accomplish by inferring unknown properties from a similar sequence from which we know those properties. In turns, this inference process involves aligning proteins, _i.e_ determining the degree of similarity of two or more sequences.  \n",
      "\n",
      "Sequence alignment can be used to:\n",
      "\n",
      "* Perform searches in databases\n",
      "* Infer biological functions \n",
      "* Infer the structure of biomolecules\n",
      "* Building phylogenetics trees\n",
      "* Detect functional regions\n",
      "* etc\n",
      "\n",
      "## Homology \n",
      "\n",
      "Two or more sequences are homologous if they share a common ancestor. Then, homology is a binary relation. Two or more sequences are or are not homologous.\n",
      "\n",
      "Two or more sequences can have a common ancestor because of and speciation process (orthologs), a duplication event (paralogs) or even a horizontal transfer process (xenologs).\n",
      "\n",
      "Homology can be inferred from the similarity of two or more sequences. Two homologous sequences are expected to have similar function, structure and dynamics and to some degree interact with similar partners. In general this is true, but also could happen that:  \n",
      "\n",
      "* two sequences can be similar and non-homologous due to convergent evolutionary process (or simply by chance).\n",
      "* two sequences may not be similar to each other but be homologous due to divergent evolution processes.\n",
      "\n",
      "## The sequence-alignment problem\n",
      "\n",
      "Determining the degree of similarity of two or more sequences, sounds like something simple to do. Nevertheless biology tends to be messier than we use to think. The main facts that complicate things are:\n",
      "   \n",
      "* Sequences could have different length\n",
      "* Some parts of the sequence could be more biological relevant than other (think about exons-introns in DNA or functional sites in proteins)\n",
      "* Indels (insertions or deletions) can occur in sequences, due to biological processes or even errors during sequencing experiments.\n",
      "* Not all the differences are the same, for example the codon CCU is different from CCA, but both code for the same amino acid. And a mutation of Ile to Leu probably will have an smaller functional/structural effect than a mutation of Ile to Arg.\n",
      "\n",
      "Given two sequences _ADGSYTAGPA_ and _VE-SY-AGPR_ the result of an alignment will be something like:\n",
      "\n",
      "        ADGSYTAGPA\n",
      "        VE-SY-AGPR\n",
      "        \n",
      "In general, solving the sequence-alignment problem can be framed as how to develop an algorithm that is capable of introducing gaps (-) and scoring the matching of identical, similar and different residues.\n",
      "\n",
      "\n",
      "### Global vs local alignment\n",
      "\n",
      "Global alignment algorithm attempts to align an entire sequence to another entire sequence. On the contrary, a local alignment algorithm is one that attempts to find portions in one sequence that align with portions in the other sequence.\n",
      "\n",
      "<img src=\"img/Global-local-alignment.png\" >\n",
      "\n",
      "As you may guest, local alignment are a better idea for more distance-related sequences and sequences of very different length."
     ]
    },
    {
     "cell_type": "markdown",
     "metadata": {},
     "source": [
      "## Substitution Matrix\n",
      "\n",
      "A [substitution matrix](https://en.wikipedia.org/wiki/Substitution_matrix) describes the probability that one residue (like an aminoacid or base) in a sequence mutates to other residues.\n",
      "\n",
      "The simplest possible substitution matrix would be the identity matrix _i.e._ we will assume that each residue is maximally similar to itself, and not able to mutate into any other residue.\n",
      "\n",
      "$$\\begin{bmatrix} 1 & 0 & \\cdots & 0 & 0 \\\\ 0 & 1 & & 0 & 0 \\\\ \\vdots & & \\ddots & & \\vdots \\\\ 0 & 0 & & 1 & 0 \\\\ 0 & 0 & \\cdots & 0 & 1 \\end{bmatrix}$$\n",
      "\n",
      "The problem with this matrix is that it only works with very similar sequences. In practice it have been shown that for proteins; empirically determined matrices work best. Such empirical matrices have different values for different pairs of residues. For nucleotide sequences simpler substitution matrices are generally used, wherein only identical matches and mismatches are considered."
     ]
    },
    {
     "cell_type": "markdown",
     "metadata": {},
     "source": [
      "### The BLOSUM matrices\n",
      "\n",
      "One of the most commonly used substitution matrices are the family of BLOSUM matrices. These matrices were derived from a database of very conserved regions of protein families (without gaps in their sequence alignments). \n",
      "\n",
      "The probabilities of mutations are expressed as _log-odds_ scores. Each element of the matrix is computed as:\n",
      "\n",
      "\n",
      "$$S_{ij}= \\left( \\frac{1}{\\lambda} \\right)\\log{\\left( \\frac{p(i,j)}{p(i) \\times p(j)} \\right) \\propto \\log \\frac {observed\\;frequency} {expected\\;frequency}}$$\n",
      "\n",
      "Where:  \n",
      "\n",
      "$p(i,j)$ is the probability of two amino acids $i$ and $j$ replacing each other in homologous sequences.  \n",
      "$p(i)$ and $p(j)$ are the probabilities of finding the amino acids $i$ and $j$ in any protein sequence.  \n",
      "The factor $\\lambda$ is a scaling factor, is just there to make the matrix contains easily computable integer values.\n",
      "\n",
      "The base of the logarithm is not relevant (as far as you apply the same base for all the elements in the same matrix!), and often the same substitution matrix is expressed in different bases.  \n",
      "\n",
      "The BLOSUM62 matrix looks like:\n",
      "\n",
      "<img src=\"img/BLOSUM62.png\" width=\"500\">   \n",
      "\n",
      "\n",
      "$$\n",
      "s_{i,j} =\n",
      "  \\begin{cases}\n",
      "    > 0  & \\text{if } p(i,j) > p(i) \\times p(j) \\\\\n",
      "    = 0    & \\text{if } p(i,j) = p(i) \\times p(j) \\\\\n",
      "    < 0    & \\text{if } p(i,j) < p(i) \\times p(j)\n",
      "  \\end{cases}\n",
      "$$"
     ]
    },
    {
     "cell_type": "markdown",
     "metadata": {},
     "source": [
      "PyMOL is distributed with a copy of the BLOSUM62 matrix. The location of the BLOSUM62 matrix may be different in your system."
     ]
    },
    {
     "cell_type": "code",
     "collapsed": false,
     "input": [
      "!cat /usr/share/pymol/data/pymol/matrices/BLOSUM62 "
     ],
     "language": "python",
     "metadata": {},
     "outputs": [
      {
       "output_type": "stream",
       "stream": "stdout",
       "text": [
        "#  Matrix made by matblas from blosum62.iij\r\n",
        "#  * column uses minimum score\r\n",
        "#  BLOSUM Clustered Scoring Matrix in 1/2 Bit Units\r\n",
        "#  Blocks Database = /data/blocks_5.0/blocks.dat\r\n",
        "#  Cluster Percentage: >= 62\r\n",
        "#  Entropy =   0.6979, Expected =  -0.5209\r\n",
        "   A  R  N  D  C  Q  E  G  H  I  L  K  M  F  P  S  T  W  Y  V  B  Z  X  *\r\n",
        "A  4 -1 -2 -2  0 -1 -1  0 -2 -1 -1 -1 -1 -2 -1  1  0 -3 -2  0 -2 -1  0 -4 \r\n",
        "R -1  5  0 -2 -3  1  0 -2  0 -3 -2  2 -1 -3 -2 -1 -1 -3 -2 -3 -1  0 -1 -4 \r\n",
        "N -2  0  6  1 -3  0  0  0  1 -3 -3  0 -2 -3 -2  1  0 -4 -2 -3  3  0 -1 -4 \r\n",
        "D -2 -2  1  6 -3  0  2 -1 -1 -3 -4 -1 -3 -3 -1  0 -1 -4 -3 -3  4  1 -1 -4 \r\n",
        "C  0 -3 -3 -3  9 -3 -4 -3 -3 -1 -1 -3 -1 -2 -3 -1 -1 -2 -2 -1 -3 -3 -2 -4 \r\n",
        "Q -1  1  0  0 -3  5  2 -2  0 -3 -2  1  0 -3 -1  0 -1 -2 -1 -2  0  3 -1 -4 \r\n",
        "E -1  0  0  2 -4  2  5 -2  0 -3 -3  1 -2 -3 -1  0 -1 -3 -2 -2  1  4 -1 -4 \r\n",
        "G  0 -2  0 -1 -3 -2 -2  6 -2 -4 -4 -2 -3 -3 -2  0 -2 -2 -3 -3 -1 -2 -1 -4 \r\n",
        "H -2  0  1 -1 -3  0  0 -2  8 -3 -3 -1 -2 -1 -2 -1 -2 -2  2 -3  0  0 -1 -4 \r\n",
        "I -1 -3 -3 -3 -1 -3 -3 -4 -3  4  2 -3  1  0 -3 -2 -1 -3 -1  3 -3 -3 -1 -4 \r\n",
        "L -1 -2 -3 -4 -1 -2 -3 -4 -3  2  4 -2  2  0 -3 -2 -1 -2 -1  1 -4 -3 -1 -4 \r\n",
        "K -1  2  0 -1 -3  1  1 -2 -1 -3 -2  5 -1 -3 -1  0 -1 -3 -2 -2  0  1 -1 -4 \r\n",
        "M -1 -1 -2 -3 -1  0 -2 -3 -2  1  2 -1  5  0 -2 -1 -1 -1 -1  1 -3 -1 -1 -4 \r\n",
        "F -2 -3 -3 -3 -2 -3 -3 -3 -1  0  0 -3  0  6 -4 -2 -2  1  3 -1 -3 -3 -1 -4 \r\n",
        "P -1 -2 -2 -1 -3 -1 -1 -2 -2 -3 -3 -1 -2 -4  7 -1 -1 -4 -3 -2 -2 -1 -2 -4 \r\n",
        "S  1 -1  1  0 -1  0  0  0 -1 -2 -2  0 -1 -2 -1  4  1 -3 -2 -2  0  0  0 -4 \r\n",
        "T  0 -1  0 -1 -1 -1 -1 -2 -2 -1 -1 -1 -1 -2 -1  1  5 -2 -2  0 -1 -1  0 -4 \r\n",
        "W -3 -3 -4 -4 -2 -2 -3 -2 -2 -3 -2 -3 -1  1 -4 -3 -2 11  2 -3 -4 -3 -2 -4 \r\n",
        "Y -2 -2 -2 -3 -2 -1 -2 -3  2 -1 -1 -2 -1  3 -3 -2 -2  2  7 -1 -3 -2 -1 -4 \r\n",
        "V  0 -3 -3 -3 -1 -2 -2 -3 -3  3  1 -2  1 -1 -2 -2  0 -3 -1  4 -3 -2 -1 -4 \r\n",
        "B -2 -1  3  4 -3  0  1 -1  0 -3 -4  0 -3 -3 -2  0 -1 -4 -3 -3  4  1 -1 -4 \r\n",
        "Z -1  0  0  1 -3  3  4 -2  0 -3 -3  1 -1 -3 -1  0 -1 -3 -2 -2  1  4 -1 -4 \r\n",
        "X  0 -1 -1 -1 -2 -1 -1 -1 -1 -1 -1 -1 -1 -1 -2  0  0 -2 -1 -1 -1 -1 -1 -4 \r\n",
        "* -4 -4 -4 -4 -4 -4 -4 -4 -4 -4 -4 -4 -4 -4 -4 -4 -4 -4 -4 -4 -4 -4 -4  1 \r\n"
       ]
      }
     ],
     "prompt_number": 2
    },
    {
     "cell_type": "markdown",
     "metadata": {},
     "source": [
      "In the above matrix:  \n",
      "\n",
      "    B = N or D   \n",
      "    Z = Q or E  \n",
      "    X = unknown amino acid   \n",
      "    * = gap penalty  \n",
      "\n",
      "The average [mutual information](http://en.wikipedia.org/wiki/Mutual_information) or _relative entropy_ is a measure of the information per amino acid contained in the matrix. In general, the mutual information is the reduction in entropy/uncertainty about variable $X$ given than we know the value of the variable $Y$. It's used to compare different substitution matrices. The entropy is 0 if the observed distribution of pair frequencies is the same as the expected one by pure chance, and greater than zero if the matrix is more informative (_i.e._ not random).\n",
      "\n",
      "$$H = \\sum_{i,j} p(i,j) \\times s_{i,j}$$"
     ]
    },
    {
     "cell_type": "markdown",
     "metadata": {},
     "source": [
      "One possible way to represent a substitution matrix, for amino acids, in Python is using $20 \\times 20$ array."
     ]
    },
    {
     "cell_type": "code",
     "collapsed": false,
     "input": [
      "BLOSUM62 = np.array([\n",
      "[ 4, -1, -2, -2,  0, -1, -1,  0, -2, -1, -1, -1, -1, -2, -1,  1,  0, -3, -2,  0],\n",
      "[-1,  5,  0, -2, -3,  1,  0, -2,  0, -3, -2,  2, -1, -3, -2, -1, -1, -3, -2, -3],\n",
      "[-2,  0,  6,  1, -3,  0,  0,  0,  1, -3, -3,  0, -2, -3, -2,  1,  0, -4, -2, -3], \n",
      "[-2, -2,  1,  6, -3,  0,  2, -1, -1, -3, -4, -1, -3, -3, -1,  0, -1, -4, -3, -3], \n",
      "[ 0, -3, -3, -3,  9, -3, -4, -3, -3, -1, -1, -3, -1, -2, -3, -1, -1, -2, -2, -1], \n",
      "[-1,  1,  0,  0, -3,  5,  2, -2,  0, -3, -2,  1,  0, -3, -1,  0, -1, -2, -1, -2], \n",
      "[-1,  0,  0,  2, -4,  2,  5, -2,  0, -3, -3,  1, -2, -3, -1,  0, -1, -3, -2, -2], \n",
      "[ 0, -2,  0, -1, -3, -2, -2,  6, -2, -4, -4, -2, -3, -3, -2,  0, -2, -2, -3, -3], \n",
      "[-2,  0,  1, -1, -3,  0,  0, -2,  8, -3, -3, -1, -2, -1, -2, -1, -2, -2,  2, -3], \n",
      "[-1, -3, -3, -3, -1, -3, -3, -4, -3,  4,  2, -3,  1,  0, -3, -2, -1, -3, -1,  3], \n",
      "[-1, -2, -3, -4, -1, -2, -3, -4, -3,  2,  4, -2,  2,  0, -3, -2, -1, -2, -1,  1], \n",
      "[-1,  2,  0, -1, -3,  1,  1, -2, -1, -3, -2,  5, -1, -3, -1,  0, -1, -3, -2, -2], \n",
      "[-1, -1, -2, -3, -1,  0, -2, -3, -2,  1,  2, -1,  5,  0, -2, -1, -1, -1, -1,  1], \n",
      "[-2, -3, -3, -3, -2, -3, -3, -3, -1,  0,  0, -3,  0,  6, -4, -2, -2,  1,  3, -1], \n",
      "[-1, -2, -2, -1, -3, -1, -1, -2, -2, -3, -3, -1, -2, -4,  7, -1, -1, -4, -3, -2], \n",
      "[ 1, -1,  1,  0, -1,  0,  0,  0, -1, -2, -2,  0, -1, -2, -1,  4,  1, -3, -2, -2], \n",
      "[ 0, -1,  0, -1, -1, -1, -1, -2, -2, -1, -1, -1, -1, -2, -1,  1,  5, -2, -2,  0], \n",
      "[-3, -3, -4, -4, -2, -2, -3, -2, -2, -3, -2, -3, -1,  1, -4, -3, -2, 11,  2, -3],\n",
      "[-2, -2, -2, -3, -2, -1, -2, -3,  2, -1, -1, -2, -1,  3, -3, -2, -2,  2,  7, -1], \n",
      "[ 0, -3, -3, -3, -1, -2, -2, -3, -3,  3,  1, -2,  1, -1, -2, -2,  0, -3, -1,  4]])\n",
      "\n",
      "mat_names ='ARNDCQEGHILKMFPSTWYV'"
     ],
     "language": "python",
     "metadata": {},
     "outputs": [],
     "prompt_number": 3
    },
    {
     "cell_type": "markdown",
     "metadata": {},
     "source": [
      "Lets also define a couple of short sequences to align"
     ]
    },
    {
     "cell_type": "code",
     "collapsed": false,
     "input": [
      "seq1 = 'LIFAGKQLEDGRTLS'\n",
      "seq2 = 'QLIFAAPKQLPGRT'"
     ],
     "language": "python",
     "metadata": {},
     "outputs": [],
     "prompt_number": 4
    },
    {
     "cell_type": "markdown",
     "metadata": {},
     "source": [
      "## Needleman-Wunsch algorithm\n",
      "\n",
      "[This algorithm](https://en.wikipedia.org/wiki/Needleman%E2%80%93Wunsch_algorithm) is used to perform optimal global alignments. Optimal means that given a set of parameters (a substitution matrix and a gap penalty) the result is the best possible alignment. \n",
      "\n",
      "The Needleman-Wunsch algorithm was one of the first applications of dynamic programming to bioinformatic problems. Is still widely used for optimal global alignment, especially when the quality of the result is of major importance.\n",
      "\n",
      "The Needleman-Wunsch algorithm starts by creating a $m+1 \\times n+1$ matrix, where $m$ and $n$ are the length of the first and second sequence to align. This matrix $\\mathbf{M}$ is called the _scoring_ matrix. The $\\mathbf{M}_{00}$ element is always a zero and the rest of the elements of the first row and column are multiples of the gap penalty."
     ]
    },
    {
     "cell_type": "code",
     "collapsed": false,
     "input": [
      "n, m = 6, 6\n",
      "gap = -8\n",
      "scoring = np.zeros((n+1 ,m+1), int)\n",
      "scoring[0] = np.arange(n+1) * gap\n",
      "scoring[:,0] = np.arange(n+1) * gap\n",
      "print scoring"
     ],
     "language": "python",
     "metadata": {},
     "outputs": [
      {
       "output_type": "stream",
       "stream": "stdout",
       "text": [
        "[[  0  -8 -16 -24 -32 -40 -48]\n",
        " [ -8   0   0   0   0   0   0]\n",
        " [-16   0   0   0   0   0   0]\n",
        " [-24   0   0   0   0   0   0]\n",
        " [-32   0   0   0   0   0   0]\n",
        " [-40   0   0   0   0   0   0]\n",
        " [-48   0   0   0   0   0   0]]\n"
       ]
      }
     ],
     "prompt_number": 5
    },
    {
     "cell_type": "markdown",
     "metadata": {},
     "source": [
      "The rest of the matrix is filled as follows. \n",
      "\n",
      "$$M_{ij} = max \\begin{cases} M_{i-1,j} + gap \\\\ M_{i,j-1} + gap \\\\ M_{i-1,j-1} + S_{a,b} \\end{cases}$$\n",
      "\n",
      "Where $S_{a,b}$ is the value of the _substitution_ matrix for a residue $a$ and a residue $b$.\n",
      "\n",
      "When the value $\\mathbf{M}_{ij}$ was obtained from the left, or from the top we have an _indel_ in our alignment. When we calculate scores from the diagonal we have a matching. The information indicating whether we calculate the $\\mathbf{M}_{ij}$ value from the left, top or diagonal element is stored in an auxiliary matrix call the _traceback_ matrix. If the value $\\mathbf{M}_{ij}$ is calculated from the top we store a 0, from the left a 1 and from the diagonal a 2. By reading the _traceback_ matrix we will recover the best alignment."
     ]
    },
    {
     "cell_type": "code",
     "collapsed": false,
     "input": [
      "def nw_matrices(seq1, seq2, mat=BLOSUM62, aa_mat=mat_names, gap=-8):\n",
      "    \"\"\"\n",
      "    Computes the Needleman-Wunsch's scoring and traceback matrices.\n",
      "    \n",
      "    Parameters\n",
      "    ----------\n",
      "    seq1: String. One of the sequences to align\n",
      "    seq2: String. The other sequence to align\n",
      "    mat : Array. A substitution Matrix\n",
      "    aa_mat : List. Column and rows names of the substitution matrix\n",
      "    gap  : Int. Gap penalty\n",
      "    \n",
      "    \"\"\" \n",
      "    l1, l2 = len(seq1), len(seq2)\n",
      "    # initialize scoring matrix and fill first row and first column with\n",
      "    # multiples of the gap penalty.\n",
      "    scoring = np.zeros((l1+1 ,l2+1), int)\n",
      "    scoring[0] = np.arange(l2+1) * gap\n",
      "    scoring[:,0] = np.arange( l1+1) * gap\n",
      "    # create traceback matrix, fill first row with ones\n",
      "    traceback = np.zeros( (l1+1 ,l2+1), int)\n",
      "    traceback[0] = np.ones(l2+1)\n",
      "    # fill the scoring and traceback matrix\n",
      "    f = [0, 0, 0]\n",
      "    for i in range(1, l1+1):\n",
      "        res_i = aa_mat.index(seq1[i-1])\n",
      "        for j in range(1, l2+1):\n",
      "            res_j = aa_mat.index(seq2[j-1])\n",
      "            # compute the values for a mismatch in either sequence\n",
      "            f[0] = scoring[i-1, j] + gap\n",
      "            f[1] = scoring[i, j-1] + gap\n",
      "            # compute the values for a match. \n",
      "            f[2] = scoring[i-1,j-1] + mat[res_i, res_j]\n",
      "            score = max(f)\n",
      "            scoring[i,j] = score\n",
      "            traceback[i,j] = f.index(score)\n",
      "    return scoring, traceback"
     ],
     "language": "python",
     "metadata": {},
     "outputs": [],
     "prompt_number": 6
    },
    {
     "cell_type": "code",
     "collapsed": false,
     "input": [
      "nw_scoring, nw_traceback = nw_matrices(seq1, seq2)\n",
      "print nw_scoring\n",
      "print nw_traceback"
     ],
     "language": "python",
     "metadata": {},
     "outputs": [
      {
       "output_type": "stream",
       "stream": "stdout",
       "text": [
        "[[   0   -8  -16  -24  -32  -40  -48  -56  -64  -72  -80  -88  -96 -104 -112]\n",
        " [  -8   -2   -4  -12  -20  -28  -36  -44  -52  -60  -68  -76  -84  -92 -100]\n",
        " [ -16  -10    0    0   -8  -16  -24  -32  -40  -48  -56  -64  -72  -80  -88]\n",
        " [ -24  -18   -8    0    6   -2  -10  -18  -26  -34  -42  -50  -58  -66  -74]\n",
        " [ -32  -25  -16   -8   -2   10    2   -6  -14  -22  -30  -38  -46  -54  -62]\n",
        " [ -40  -33  -24  -16  -10    2   10    2   -6  -14  -22  -30  -32  -40  -48]\n",
        " [ -48  -39  -32  -24  -18   -6    2    9    7   -1   -9  -17  -25  -30  -38]\n",
        " [ -56  -43  -40  -32  -26  -14   -6    1   10   12    4   -4  -12  -20  -28]\n",
        " [ -64  -51  -39  -38  -32  -22  -14   -7    2    8   16    8    0   -8  -16]\n",
        " [ -72  -59  -47  -42  -40  -30  -22  -15   -6    4    8   15    7    0   -8]\n",
        " [ -80  -67  -55  -50  -45  -38  -30  -23  -14   -4    0    7   14    6   -1]\n",
        " [ -88  -75  -63  -58  -53  -45  -38  -31  -22  -12   -8   -1   13   12    4]\n",
        " [ -96  -83  -71  -66  -61  -53  -46  -39  -29  -20  -14   -9    5   18   11]\n",
        " [-104  -91  -79  -72  -68  -61  -53  -47  -37  -28  -21  -15   -3   10   23]\n",
        " [-112  -99  -87  -77  -72  -69  -61  -55  -45  -36  -24  -23  -11    2   15]\n",
        " [-120 -107  -95  -85  -79  -71  -68  -62  -53  -44  -32  -25  -19   -6    7]]\n",
        "[[1 1 1 1 1 1 1 1 1 1 1 1 1 1 1]\n",
        " [0 2 2 1 1 1 1 1 1 1 1 1 1 1 1]\n",
        " [0 0 2 2 1 1 1 1 1 1 1 1 1 1 1]\n",
        " [0 0 0 2 2 1 1 1 1 1 1 1 1 1 1]\n",
        " [0 2 0 0 0 2 1 1 1 1 1 1 1 1 1]\n",
        " [0 0 0 0 0 0 2 1 1 1 1 1 2 1 1]\n",
        " [0 2 0 0 0 0 0 2 2 1 1 1 1 2 1]\n",
        " [0 2 0 0 0 0 0 0 2 2 1 1 1 1 1]\n",
        " [0 0 2 2 2 0 0 0 0 2 2 1 1 1 1]\n",
        " [0 0 0 2 0 0 0 0 0 2 0 2 1 2 1]\n",
        " [0 0 0 0 2 0 0 0 0 0 0 0 2 1 2]\n",
        " [0 0 0 0 0 2 0 0 0 0 0 0 2 2 1]\n",
        " [0 0 0 0 0 0 0 0 2 0 2 0 0 2 2]\n",
        " [0 0 0 2 2 0 2 0 0 0 2 2 0 0 2]\n",
        " [0 0 0 2 2 0 0 0 0 0 2 0 0 0 0]\n",
        " [0 0 0 0 2 2 2 2 0 0 0 2 0 0 0]]\n"
       ]
      }
     ],
     "prompt_number": 7
    },
    {
     "cell_type": "code",
     "collapsed": false,
     "input": [
      "def nw_backtrace(seq1, seq2, scoring=nw_scoring, traceback=nw_traceback):\n",
      "    \"\"\"\n",
      "    Perform the Needleman-Wunsch's backtrace and returns the aligned \n",
      "    sequences and the scoring of the alignment.\n",
      "    \n",
      "    Parameters\n",
      "    ----------\n",
      "    seq1: String. One of the sequences to align\n",
      "    seq2: String. The other sequence to align\n",
      "    scoring : Array. Scoring matrix computed with nw_matrices \n",
      "    traceback : Array. Traceback matrix computed with nw_matrices \n",
      "    \n",
      "    \"\"\"\n",
      "    st1 = '' \n",
      "    st2 = ''\n",
      "    i, j = traceback.shape\n",
      "    i -= 1\n",
      "    j -= 1\n",
      "    max_score = scoring[i, j]\n",
      "    while True:\n",
      "        if traceback[i,j] == 0:\n",
      "            st1 += seq1[i-1]\n",
      "            st2 += '-'\n",
      "            i -= 1\n",
      "        elif traceback[i,j] == 1:\n",
      "            st1 += '-'\n",
      "            st2 += seq2[j-1]\n",
      "            j -= 1\n",
      "        elif traceback[i,j] == 2:\n",
      "            st1 += seq1[i-1]\n",
      "            st2 += seq2[j-1]\n",
      "            i -= 1\n",
      "            j -= 1\n",
      "        if i == 0 and j == 0:\n",
      "            break\n",
      "    # reverse the strings\n",
      "    st1 = st1[::-1]\n",
      "    st2 = st2[::-1]\n",
      "    \n",
      "    return st1, st2, max_score"
     ],
     "language": "python",
     "metadata": {},
     "outputs": [],
     "prompt_number": 8
    },
    {
     "cell_type": "code",
     "collapsed": false,
     "input": [
      "seq1_aln, seq2_aln, max_score = nw_backtrace(seq1, seq2)\n",
      "\n",
      "print seq1_aln\n",
      "print seq2_aln\n",
      "max_score"
     ],
     "language": "python",
     "metadata": {},
     "outputs": [
      {
       "output_type": "stream",
       "stream": "stdout",
       "text": [
        "-LIFAG-KQLEDGRTLS\n",
        "QLIFAAPKQLP-GRT--\n"
       ]
      },
      {
       "metadata": {},
       "output_type": "pyout",
       "prompt_number": 9,
       "text": [
        "7"
       ]
      }
     ],
     "prompt_number": 9
    },
    {
     "cell_type": "markdown",
     "metadata": {},
     "source": [
      "## Smith-Waterman algorithm\n",
      "\n",
      "[This algorithm](https://en.wikipedia.org/wiki/Smith%E2%80%93Waterman_algorithm) is a variation of the Needleman-Wunsch algorithm and also guarantees that it finds the best optimal alignment, but with the difference that performs a local sequence alignment. Instead of looking at the total sequence, the Smith-Waterman algorithm compares segments of all possible lengths and optimizes the similarity measure.\n",
      "\n",
      "The main difference to the Needleman-Wunsch algorithm is that negative values in the scoring matrix are not allowed _i.e._ now:\n",
      "\n",
      "$$M_{ij} = max \\begin{cases} M_{m-1,n} + gap \\\\ M_{m,n-1} + gap \\\\ M_{m-1,n-1} + S_{a,b} \\\\ 0 \\end{cases}$$\n",
      "\n",
      "The other difference is that the backtracking starts at the highest scoring matrix cell (not necessary the lower-right one) and trace-back until a cell with a zero (in the scoring matrix) is founded, yielding the highest scoring local alignment."
     ]
    },
    {
     "cell_type": "code",
     "collapsed": false,
     "input": [
      "def sw_matrices(seq1, seq2, mat=BLOSUM62, aa_mat=mat_names, gap=-8):\n",
      "    \"\"\"\n",
      "    Computes the Smith-Waterman's scoring and traceback matrices.\n",
      "    \n",
      "    Parameters\n",
      "    ----------\n",
      "    seq1: String. One of the sequences to align\n",
      "    seq2: String. The other sequence to align\n",
      "    mat : Array. Substitution Matrix\n",
      "    aa_mat : List. Column and rows names of the substitution matrix\n",
      "    gap  : Int. Gap penalty\n",
      "    \n",
      "    \"\"\"\n",
      "    l1, l2 = len(seq1), len(seq2)\n",
      "    # initialize scoring matrix with zeros\n",
      "    scoring = np.zeros((l1+1 ,l2+1), int)\n",
      "    # create traceback matrix, fill first row with ones\n",
      "    traceback = np.zeros((l1+1 ,l2+1), int)\n",
      "    traceback[0] = np.ones(l2+1)\n",
      "    # f matrix 4 values, the last one is always zero, as a result\n",
      "    # no negative numbers are accepted \n",
      "    f = [0, 0, 0, 0]\n",
      "    # fill the scoring and traceback matrix\n",
      "    for i in range(1, l1+1):\n",
      "        res_i = aa_mat.index(seq1[i-1])\n",
      "        for j in range(1, l2+1):\n",
      "            res_j = aa_mat.index(seq2[j-1])\n",
      "            # compute the values for a mismatch in either sequence\n",
      "            f[0] = scoring[i-1, j] + gap\n",
      "            f[1] = scoring[i, j-1] + gap\n",
      "            # compute the values for a match. \n",
      "            f[2] = scoring[i-1,j-1] + mat[res_i, res_j]\n",
      "            score = max(f)\n",
      "            scoring[i,j] = score\n",
      "            traceback[i,j] = f.index(score)\n",
      "    return scoring, traceback"
     ],
     "language": "python",
     "metadata": {},
     "outputs": [],
     "prompt_number": 10
    },
    {
     "cell_type": "code",
     "collapsed": false,
     "input": [
      "sw_scoring, sw_traceback = sw_matrices(seq1, seq2)\n",
      "print sw_scoring\n",
      "print sw_traceback"
     ],
     "language": "python",
     "metadata": {},
     "outputs": [
      {
       "output_type": "stream",
       "stream": "stdout",
       "text": [
        "[[ 0  0  0  0  0  0  0  0  0  0  0  0  0  0  0]\n",
        " [ 0  0  4  2  0  0  0  0  0  0  4  0  0  0  0]\n",
        " [ 0  0  2  8  2  0  0  0  0  0  2  1  0  0  0]\n",
        " [ 0  0  0  2 14  6  0  0  0  0  0  0  0  0  0]\n",
        " [ 0  0  0  0  6 18 10  2  0  0  0  0  0  0  0]\n",
        " [ 0  0  0  0  0 10 18 10  2  0  0  0  6  0  0]\n",
        " [ 0  1  0  0  0  2 10 17 15  7  0  0  0  8  0]\n",
        " [ 0  5  0  0  0  0  2  9 18 20 12  4  0  1  7]\n",
        " [ 0  0  9  2  0  0  0  1 10 16 24 16  8  0  0]\n",
        " [ 0  2  1  6  0  0  0  0  2 12 16 23 15  8  0]\n",
        " [ 0  0  0  0  3  0  0  0  0  4  8 15 22 14  7]\n",
        " [ 0  0  0  0  0  3  0  0  0  0  0  7 21 20 12]\n",
        " [ 0  1  0  0  0  0  2  0  2  1  0  0 13 26 19]\n",
        " [ 0  0  0  0  0  0  0  1  0  1  0  0  5 18 31]\n",
        " [ 0  0  4  2  0  0  0  0  0  0  5  0  0 10 23]\n",
        " [ 0  0  0  2  0  1  1  0  0  0  0  4  0  2 15]]\n",
        "[[1 1 1 1 1 1 1 1 1 1 1 1 1 1 1]\n",
        " [0 3 2 2 2 3 3 3 3 3 2 3 3 3 3]\n",
        " [0 3 2 2 2 3 3 3 3 3 2 2 3 3 3]\n",
        " [0 3 2 2 2 1 3 3 3 3 2 3 3 3 3]\n",
        " [0 3 3 3 0 2 1 1 3 3 3 3 2 3 2]\n",
        " [0 3 3 3 3 0 2 1 1 3 3 3 2 3 3]\n",
        " [0 2 3 3 3 0 0 2 2 1 3 3 3 2 1]\n",
        " [0 2 3 3 3 3 0 0 2 2 1 1 3 2 2]\n",
        " [0 3 2 2 2 3 3 0 0 2 2 1 1 1 2]\n",
        " [0 2 0 2 3 3 3 3 0 2 0 2 1 2 1]\n",
        " [0 2 3 3 2 3 3 3 3 0 0 0 2 1 2]\n",
        " [0 3 3 3 3 2 2 3 3 3 0 0 2 2 1]\n",
        " [0 2 3 3 3 3 2 3 2 2 3 3 0 2 2]\n",
        " [0 3 2 3 3 2 2 2 3 2 2 3 0 0 2]\n",
        " [0 3 2 2 2 3 3 3 3 3 2 3 3 0 0]\n",
        " [0 2 3 2 2 2 2 3 2 2 3 2 2 0 0]]\n"
       ]
      }
     ],
     "prompt_number": 11
    },
    {
     "cell_type": "code",
     "collapsed": false,
     "input": [
      "def sw_backtrace(seq1, seq2, scoring=sw_scoring, traceback=sw_traceback):\n",
      "    \"\"\"\n",
      "    Perform the Smith-Waterman's backtrace and returns the aligned \n",
      "    sequences and the scoring of the alignment.\n",
      "    \n",
      "    Parameters\n",
      "    ----------\n",
      "    seq1: String. One of the sequences to align\n",
      "    seq2: String. The other sequence to align\n",
      "    scoring : Array. Scoring matrix computed with sw_matrices \n",
      "    traceback : Array. Traceback matrix computed with sw_matrices \n",
      "    \n",
      "    \"\"\"\n",
      "    st1 = '' \n",
      "    st2 = ''\n",
      "    max_score = scoring.max()\n",
      "    i, j = np.where(scoring == max_score)\n",
      "    i = int(i)\n",
      "    j = int(j)\n",
      "    while True:\n",
      "        if traceback[i,j] == 0:\n",
      "            st1 += seq1[i-1]\n",
      "            st2 += '-'\n",
      "            i -= 1\n",
      "        elif traceback[i,j] == 1:\n",
      "            st1 += '-'\n",
      "            st2 += seq2[j-1]\n",
      "            j -= 1\n",
      "        elif traceback[i,j] == 2:\n",
      "            st1 += seq1[i-1]\n",
      "            st2 += seq2[j-1]\n",
      "            i -= 1\n",
      "            j -= 1\n",
      "        if i == 0 and j == 0 or scoring[i, j] == 0:\n",
      "            break\n",
      "    # reverse the strings\n",
      "    st1 = st1[::-1]\n",
      "    st2 = st2[::-1]\n",
      "    return st1, st2, max_score"
     ],
     "language": "python",
     "metadata": {},
     "outputs": [],
     "prompt_number": 12
    },
    {
     "cell_type": "code",
     "collapsed": false,
     "input": [
      "seq1_aln, seq2_aln, max_score = sw_backtrace(seq1, seq2)\n",
      "\n",
      "print seq1_aln\n",
      "print seq2_aln\n",
      "max_score"
     ],
     "language": "python",
     "metadata": {},
     "outputs": [
      {
       "output_type": "stream",
       "stream": "stdout",
       "text": [
        "LIFAG-KQLEDGRT\n",
        "LIFAAPKQLP-GRT\n"
       ]
      },
      {
       "metadata": {},
       "output_type": "pyout",
       "prompt_number": 13,
       "text": [
        "31"
       ]
      }
     ],
     "prompt_number": 13
    },
    {
     "cell_type": "markdown",
     "metadata": {},
     "source": [
      "## BLAST\n",
      "\n",
      "Basic Local Alignment Search Tool ([BLAST](https://en.wikipedia.org/wiki/BLAST)) is an algorithm for searching sequences on large databases. Instead of performing a full alignment like with the Smith-Waterman algorithm (slow), BLAST use a heuristic (and fast) method. Speed is vital to making this algorithm practical given the huge biological sequence databases currently available. Even when BLAST can not guarantee optimal alignments, gives relatively good accuracy.\n",
      "\n",
      "We will not study the BLAST algorithm, but we mention it here due to its importance and because is related to the Needleman-Wunsch and Smith-Waterman algorithms."
     ]
    },
    {
     "cell_type": "markdown",
     "metadata": {},
     "source": [
      "## Strategies for multiple sequence alignment\n",
      "\n",
      "Multiple Sequences Alignment (MSA) is the generalization of pairwise alignment to more that two sequences. As you can imagine MSA is not as straightforward as aligning two sequences. A na\u00efve approach for producing a MSA uses the dynamic programming technique to identify the globally optimal alignment solution. Hence, for $n$ individual sequences, this na\u00efve method requires constructing the $n-dimensional$ equivalent of the matrix used in standard pairwise sequence alignment. The search space thus increases exponentially with increasing $n$ and is also strongly dependent on sequence length. \n",
      "\n",
      "To find the global optimum for $n$ sequences this way has been shown to be an NP-complete problem.\n",
      "\n",
      "### Progressive alignment construction (greedy approach)\n",
      "\n",
      "This is the most commonly used method to generate multiple sequence alignments. Is an heuristic search, that begins by computing all possible pairwise alignments, then a guide tree is determined by an efficient clustering method such as neighbor-joining or UPGMA (see next). The guide tree is used to _guide_ the build up of the MSA. The final MSA is obtained by combining the most similar pair first and progressing to the less similar ones. \n",
      "\n",
      "Progressive alignments are not guaranteed to be globally optimal. The main reason is that errors made at any stage, are propagated through to the final result. Performance is also particularly bad when all of the sequences in the set are rather distantly related. \n",
      "\n",
      "### Iterative methods (non-greedy approach)\n",
      "\n",
      "Iterative methods are methods that, unlike the progressive method, allows for realignments _i.e_ alignments done in previous stages can be modified. This methods provides more accurate results at the expenses of taking more computational resources. There are several way to actually implement these iterative methods; one possibility is to use standard optimization techniques like genetic algorithms and simulated annealing (we will explain these techniques in the final chapter), another possibility is to use Hidden Markov models, wich are probabilistic models and can be applied to a large set of problems. In the context of MSA HMM can be used to assign likelihoods to all possible combinations of gaps, matches, and mismatches to determine the most likely MSA or set of possible MSAs. We will discuss HMM in the next chapter in the context of secondary structure prediction."
     ]
    },
    {
     "cell_type": "markdown",
     "metadata": {},
     "source": [
      "## Computational Molecular Phylogenetics\n",
      "\n",
      "A phylogenetic tree is a model showing the inferred evolutionary relationships among a set of biological species (or biomolecules, or genes, or populations). The leaves (or external nodes) of the tree represent our current data (e.g. extant species) and the internal nodes represent the inferred common ancestors.\n",
      "\n",
      "The are different methods to build such trees.\n",
      "\n",
      "### Distance-based methods\n",
      "\n",
      "In this type of methods, a tree is derived from a distance matrix of pairwise distances. Then a clustering algorithm like [UPGMA](https://en.wikipedia.org/wiki/UPGMA) (unweighted pair-group method using arithmetic averages) or neighbour joining is used. The advantage of distance methods is that they are computationally fast. On the other side, these methods does not have the flexibility of statistical methods.\n",
      "\n",
      "### Character-based methods.\n",
      "\n",
      "Instead of using a global metric like the distance to cluster the data these methods use an optimality criterion (an objective function) to measure how well the proposed trees fits the available data.\n",
      "\n",
      "\n",
      "### Maximum parsimony \n",
      "\n",
      "Maximum parsimony is a method of identifying the phylogenetic tree that requires the smallest number of evolutionary events (character changes) to explain the observed data. \n",
      "\n",
      "\n",
      "The most naive way of identifying the most parsimonious tree is by brute-force (enumerating each possible tree and identifying the one with the smallest score). However, this is only possible for a relatively small number of species, in fact the problem of identifying the most parsimonious tree is known to be NP-hard, consequently a number of heuristic search methods have been developed. Most such methods involve a steepest descent-style minimization mechanism operating on a tree rearrangement criterion.\n",
      "\n",
      "### Maximum likelihood and Bayesian statistics\n",
      "\n",
      "The maximum likelihood and Bayesian methods uses standard statistical techniques for inferring phylogenetic trees. Both methods use substitution models to assign probabilities to trees. Roughly, the more mutations needed to explain the tree the lower probability a tree will have. The main advantage of statistical methods is their flexibility to build models that take into account varying rates of evolution across both lineages and sites. Additionally, Bayesian methods can be used to include more information trough the definition of a proper prior."
     ]
    },
    {
     "cell_type": "markdown",
     "metadata": {},
     "source": [
      "## Clustering\n",
      "\n",
      "Clustering consist on grouping a set of objects into subsets such that all elements within a group are more similar among them than they are to the others. From this definition it is obvious that the definition of similarity will affect the results. There are many situations in which we want to cluster our data, to classify proteins by their structure, to find the evolutionary history of sequences/species, to understand why certain compounds are good antibiotics and other not, to group people by similar interests, etc."
     ]
    },
    {
     "cell_type": "markdown",
     "metadata": {},
     "source": [
      "### Neighbor joining\n",
      "\n",
      "[Neighbor joining](https://en.wikipedia.org/wiki/Neighbor_joining) is a clustering method specifically designed for the creation of phylogenetic trees. It is probably the most widely used distance-based algorithm. Neighbor joining uses an agglomerative (or bottom-up) approach to clustering. Like other agglomerative methods it can be summarized in four steps:\n",
      "\n",
      "1. Choose the pair of nodes with the highest similarity  \n",
      "2. Merge the pair into a new node/cluster  \n",
      "3. Compute the distances between the new node and the former existing nodes  \n",
      "4. Repeat the procedure until only one node is left    \n",
      "\n",
      "Neighbor joining may be viewed as a greedy algorithm for finding a topology which minimizes the tree length. Neighbor joining at each step greedily joins the pair of nodes which will give the greatest decrease in the estimated tree length. Although, this procedure is not guaranteed to find the optimal topology (by this criterion) often does and in generall is quite close.\n",
      "\n",
      "Neighbor joining requires as input a distance matrix, according to some distance estimation method. At the beginning all the nodes are liked together in a star-tree. The first step is to choose the pair of nodes with the highest similarity, this is done by computing the Q-matrix, and finding the smallest value in it.\n",
      "\n",
      "$$Q(i,j)=(n-2)d(i,j)-\\sum_{k=1}^n d(i,k) - \\sum_{k=1}^n d(j,k)$$\n",
      "\n",
      "where:  \n",
      "$n$ is the number of nodes\n",
      "$d(i,j)$ is the distance between nodes $i$ and $j$.\n",
      "\n",
      "After the two nodes are merged into a new node, is necessary to compute the distances between the joined nodes and the new node using the following formulas:  \n",
      "\n",
      "$$\\delta(a,u)=\\frac{1}{2}d(a,b)+\\frac{1}{2(n-2)} \\left [ \\sum_{k=1}^n d(a,k) - \\sum_{k=1}^n d(b,k) \\right ]$$\n",
      "\n",
      "$$\\delta(b,u)=d(a,b)-\\delta(a,u)$$\n",
      "\n",
      "Where:  \n",
      "$a$ and $b$ are the paired nodes and $u$ is the newly created node.\n",
      "\n",
      "The final step (until continuing with the iterations) is to compute the distance of the new node to the remaining unclustered nodes\n",
      "\n",
      "$$d(u,k)=\\frac{1}{2} [d(a,k)+d(b,k)-d(a,b)]$$\n",
      "\n",
      "Let start by defining an arbitrary distance matrix"
     ]
    },
    {
     "cell_type": "code",
     "collapsed": false,
     "input": [
      "dist_matrix = np.array([\n",
      "[ 0, 5, 9, 9, 8],\n",
      "[ 5, 0,10,10, 9],\n",
      "[ 9,10, 0, 8, 7],\n",
      "[ 9,10, 8, 0, 3],\n",
      "[ 8, 9, 7, 3, 0]])"
     ],
     "language": "python",
     "metadata": {},
     "outputs": [],
     "prompt_number": 14
    },
    {
     "cell_type": "code",
     "collapsed": false,
     "input": [
      "def nb_joining(d_mat):\n",
      "    \"\"\"\n",
      "    \"\"\"\n",
      "    \n",
      "    n = len(d_mat)\n",
      "    if n == 2:\n",
      "        #print d_mat\n",
      "        return d_mat\n",
      "    # compute the distance from each node to the rest of the nodes\n",
      "    net_div = np.array([np.sum(d_mat, axis=1)])\n",
      "    # Compute the Q matrix\n",
      "    q_mat = (n-2) * d_mat - net_div - net_div.T\n",
      "    np.fill_diagonal(q_mat, 0)\n",
      "    #print q_mat\n",
      "    # compute the indices of the lowest value.\n",
      "    # argmin flattens the arrays before computing the minimun, unravel_index \n",
      "    # returns the indeces from the unflatten array\n",
      "    lw = np.unravel_index(np.argmin(q_mat), np.shape(q_mat))\n",
      "    #print lw\n",
      "    # Distance from the pair members to the new node\n",
      "    d_ij = 0.5 * d_mat[lw] \\\n",
      "    + 1/(2*(n-2)) * (np.sum(d_mat[lw[0]]) - np.sum(d_mat[lw[1]])) \n",
      "    d_ji = d_mat[lw] - d_ij\n",
      "    print d_ij, d_ji\n",
      "    # Compute a new distance-matrix using the new node\n",
      "    new_node_d = 0.5 * (d_mat[lw[0]] + d_mat[lw[1]] - d_mat[lw])\n",
      "    d_mat = np.delete(d_mat, lw, axis=0)\n",
      "    d_mat = np.delete(d_mat, lw, axis=1)\n",
      "    new_d_mat = np.zeros((n-1, n-1))\n",
      "    new_d_mat[0] = new_node_d[1:]\n",
      "    new_d_mat[:,0] = new_node_d[1:]\n",
      "    new_d_mat[1:,1:] = d_mat\n",
      "    print new_d_mat\n",
      "    nb_joining(new_d_mat)\n",
      "    \n",
      "\n",
      "nb_joining(dist_matrix)"
     ],
     "language": "python",
     "metadata": {},
     "outputs": [
      {
       "output_type": "stream",
       "stream": "stdout",
       "text": [
        "2.0 3.0\n",
        "[[ 0.  7.  7.  6.]\n",
        " [ 7.  0.  8.  7.]\n",
        " [ 7.  8.  0.  3.]\n",
        " [ 6.  7.  3.  0.]]\n",
        "3.0 4.0\n",
        "[[ 0.  4.  3.]\n",
        " [ 4.  0.  3.]\n",
        " [ 3.  3.  0.]]\n",
        "2.0 2.0\n",
        "[[ 0.  1.]\n",
        " [ 1.  0.]]\n"
       ]
      }
     ],
     "prompt_number": 15
    },
    {
     "cell_type": "markdown",
     "metadata": {},
     "source": [
      "Graphically, the function _nb_joining_ performs the following steps:\n",
      "<img src=\"img/NB_5taxa.png\" width=\"500\">"
     ]
    },
    {
     "cell_type": "markdown",
     "metadata": {},
     "source": [
      "### The K-means clustering\n",
      "k-means clustering aims to partition $n$ observations into $k$ clusters in which each observation belongs to the cluster with the nearest mean, serving as a prototype of the cluster. This results in a partitioning of the data space into [Voronoi cells](https://en.wikipedia.org/wiki/Voronoi_diagram).\n",
      "\n",
      "K-means is a heuristic algorithm and hence there is no guarantee that it will converge to the global optimum. Additionally, the results may depend on the initial conditions, like with other stochastic algorithm. A common practice is to run the algorithm multiple times with different starting conditions and to check for convergence.\n",
      "\n",
      "K-means clustering proceeds essentially in two steps:\n",
      "\n",
      "1. Assign each point to a cluster  \n",
      "2. Update the mean for each cluster  \n",
      "\n",
      "k-means clustering can be seen as an special case of the expectation-maximization algorithm, while k-means clustering tends to find clusters of comparable spatial extent, expectation-maximization allows clusters to have different shapes. "
     ]
    },
    {
     "cell_type": "code",
     "collapsed": false,
     "input": [
      "data = np.genfromtxt('easy_clust.txt')\n",
      "x = data[:,0]\n",
      "y = data[:,1]\n",
      "plt.plot(x, y, 's');"
     ],
     "language": "python",
     "metadata": {},
     "outputs": [
      {
       "metadata": {},
       "output_type": "display_data",
       "png": "[encoded data removed]",
       "text": [
        "<matplotlib.figure.Figure at 0x7f6449752690>"
       ]
      }
     ],
     "prompt_number": 6
    },
    {
     "cell_type": "code",
     "collapsed": false,
     "input": [
      "def assign(data, centroids):\n",
      "    \"\"\"\n",
      "    Assign each point in the data set to the closer centroid.\n",
      "    \n",
      "    Parameters\n",
      "    ----------\n",
      "    data: Array. data set to clusterize\n",
      "    centroids. Array. Coordinate of the centroids\n",
      "    \n",
      "    \"\"\"\n",
      "    # k clusters\n",
      "    k = len(centroids)\n",
      "    # create a list of k lists\n",
      "    clusters = [[] for _ in range(k)]\n",
      "    # loop trough all the datapoints and check their \n",
      "    # distance to each centroid. Add the point to the\n",
      "    # closer centroid\n",
      "    for i in data:\n",
      "        f = []\n",
      "        for j in centroids:\n",
      "            #dist = (np.sum((j - i)**2))**0.5\n",
      "            dist = np.sum((j - i)**2)\n",
      "            f.append(dist)\n",
      "        mn = f.index(min(f))\n",
      "        clusters[mn].append(i)\n",
      "    return clusters\n",
      "\n",
      "\n",
      "def k_means(data, k):\n",
      "    \"\"\"\n",
      "    Perform the k_means algorithm\n",
      "    \n",
      "    Parameters\n",
      "    ----------\n",
      "    data: Array. data set to clusterize\n",
      "    k. Int. Number of clusters\n",
      "    \n",
      "    \"\"\"    \n",
      "    # initialize by selecting k data points at random\n",
      "    centroids = data[np.random.random_integers(len(data)-1, size=k)]    \n",
      "    # use the k data points as the initial centroids\n",
      "    clusters = assign(data, centroids)    \n",
      "    centroids_old = centroids\n",
      "    \n",
      "    # loop until the clusters stops changing\n",
      "    while True:\n",
      "        centroids = []\n",
      "        for cluster in clusters:\n",
      "            centroids.append(np.mean(cluster, axis=0))\n",
      "        centroids = np.array(centroids)\n",
      "        if np.array_equal(centroids, centroids_old):\n",
      "            return clusters\n",
      "        else:\n",
      "            clusters = assign(data, centroids)\n",
      "            centroids_old = centroids"
     ],
     "language": "python",
     "metadata": {},
     "outputs": [],
     "prompt_number": 16
    },
    {
     "cell_type": "code",
     "collapsed": false,
     "input": [
      "clusters = k_means(data, 3)\n",
      "for i in range(len(clusters)):\n",
      "    x = np.array(clusters[i])[:,0]\n",
      "    y = np.array(clusters[i])[:,1]\n",
      "    plt.plot(x, y, 'd')"
     ],
     "language": "python",
     "metadata": {},
     "outputs": [
      {
       "metadata": {},
       "output_type": "display_data",
       "png": "[encoded data removed]",
       "text": [
        "<matplotlib.figure.Figure at 0x7f64453d4550>"
       ]
      }
     ],
     "prompt_number": 31
    },
    {
     "cell_type": "code",
     "collapsed": false,
     "input": [
      "def make_circles(n=500, scatter=3):\n",
      "    \"\"\"\n",
      "    Draw two concentric circles made of scattered points\n",
      "    \n",
      "    Parameters\n",
      "    ----------\n",
      "    n: int. Number of points in each circle\n",
      "    scatter. float. Control the spread of the points.\n",
      "    \"\"\"\n",
      "\n",
      "    r0 = 50 + np.random.normal(loc=0, scale=scatter, size=n)\n",
      "    r1 = 25 + np.random.normal(loc=0, scale=scatter, size=n)\n",
      "    r = np.concatenate((r0, r1))\n",
      "    \n",
      "    theta0 = np.linspace(0, np.pi*2, n)\n",
      "    theta = np.concatenate((theta0, theta0))\n",
      "    \n",
      "    x = r * np.cos(theta)\n",
      "    y = r * np.sin(theta)\n",
      "    return np.vstack((x, y)).T"
     ],
     "language": "python",
     "metadata": {},
     "outputs": [],
     "prompt_number": 32
    },
    {
     "cell_type": "code",
     "collapsed": false,
     "input": [
      "data_circ = make_circles(500, 3)\n",
      "x = data_circ[:,0]\n",
      "y = data_circ[:,1]\n",
      "plt.plot(x, y, 's');"
     ],
     "language": "python",
     "metadata": {},
     "outputs": [
      {
       "metadata": {},
       "output_type": "display_data",
       "png": "[encoded data removed]",
       "text": [
        "<matplotlib.figure.Figure at 0x7f64491d2810>"
       ]
      }
     ],
     "prompt_number": 33
    },
    {
     "cell_type": "code",
     "collapsed": false,
     "input": [
      "clusters = k_means(data_circ, 2)\n",
      "for i in range(len(clusters)):\n",
      "    x = np.array(clusters[i])[:,0]\n",
      "    y = np.array(clusters[i])[:,1]\n",
      "    plt.plot(x, y, 'd')"
     ],
     "language": "python",
     "metadata": {},
     "outputs": [
      {
       "metadata": {},
       "output_type": "display_data",
       "png": "[encoded data removed]",
       "text": [
        "<matplotlib.figure.Figure at 0x7f6448c5a3d0>"
       ]
      }
     ],
     "prompt_number": 36
    },
    {
     "cell_type": "markdown",
     "metadata": {},
     "source": [
      "Unless you want to have clusters that contains portions of the inner and outer circle, the previous example shows that k-means may be not the best algorithm for this particular data-set. Indeed, there is not an ideal clustering algorithm that works for every possible data-set. Although, some algorithms (like [DBSCAN](http://en.wikipedia.org/wiki/DBSCAN)) have very good performance on more different situations than others. As is always the case for any model/algorithm it is important to evaluate the result of a clustering algorithm in the context of a particular application and using the domain-knowledge at hand."
     ]
    },
    {
     "cell_type": "markdown",
     "metadata": {},
     "source": [
      "## Further Reading\n",
      "\n",
      "[Henikoff & Henikoff 1992](https://www.ncbi.nlm.nih.gov/pmc/articles/PMC50453/). Amino Acid Substitution Matrices from Protein Blocks. PNAS 89:10915-10919.  \n",
      "[Styczynski et al 2008](http://www.nature.com/nbt/journal/v26/n3/full/nbt0308-274.html). BLOSUM62 miscalculations improve search performance.  \n",
      "[Jason Kinser 2009](http://www.amazon.com/Bioinformatics-Chapman-Mathematical-Computational-Biology/dp/1584889292). Python For Bioinformatics.  \n",
      "[Saitou N, Nei M 1987](http://mbe.oxfordjournals.org/content/4/4/406.long). The neighbor-joining method: a new method for reconstructing phylogenetic trees.  \n",
      "[Yang 2014](http://abacus.gene.ucl.ac.uk/MESA/). Molecular Evolution:\n",
      "A Statistical Approach.  \n",
      "[Clustal](https://en.wikipedia.org/wiki/Clustal). A family of algorithms for multiple sequence alignment.  "
     ]
    }
   ],
   "metadata": {}
  }
 ]
}